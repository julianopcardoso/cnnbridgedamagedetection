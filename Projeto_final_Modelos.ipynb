{
  "cells": [
    {
      "cell_type": "markdown",
      "metadata": {
        "id": "view-in-github",
        "colab_type": "text"
      },
      "source": [
        "<a href=\"https://colab.research.google.com/github/julianopcardoso/cnnbridgedamagedetection/blob/main/Projeto_final_Modelos.ipynb\" target=\"_parent\"><img src=\"https://colab.research.google.com/assets/colab-badge.svg\" alt=\"Open In Colab\"/></a>"
      ]
    },
    {
      "cell_type": "markdown",
      "metadata": {
        "id": "jXkb-Mfx5czJ"
      },
      "source": [
        "# **Disciplina: Aprendizado Profundo 02/2023**\n",
        "\n",
        "Professor:\n",
        "Anderson Rocha Tavares\n",
        "\n",
        "Grupo:\n",
        "Daniele Kauctz,\n",
        "Gabriel Beretta,\n",
        "Juliano Cardoso\n",
        "\n",
        "<br>\n",
        "\n",
        "---"
      ]
    },
    {
      "cell_type": "markdown",
      "metadata": {
        "id": "h-eeqkMY5OaK"
      },
      "source": [
        "## Detecção de danos estruturais em pontes através de Rede Neurais Artificiais\n",
        "\n",
        "\n",
        "\n"
      ]
    },
    {
      "cell_type": "markdown",
      "metadata": {
        "id": "lsjms3Xt-0yL"
      },
      "source": [
        "Identificar possíveis danos estruturais em pontes através de análise de sensores de aceleração utilizando séries temporais.\n",
        "\n",
        "Esses sensores de aceleração (acelerômetros) são capazes de identificar vibrações em qualquer estrutura. Essas vibrações ocorrem de acordo com as características do sistema sendo uma propriedade sensível ao dano.\n",
        "\n",
        "Os dados de entrada são valores de aceleração (m/s²) ao longo do tempo no cenários íntegros e danificados.\n",
        "\n",
        "<br>\n",
        "\n",
        "Dataset: Old_ADA_Bridge-damage_vibration_data\n",
        "\n",
        "Related work: Ambient and Vehicle-Induced Vibration Data of a Steel Truss Bridge Subject to Artificial Damage\n",
        "\n"
      ]
    },
    {
      "cell_type": "markdown",
      "metadata": {
        "id": "BB2XjzRH5wnX"
      },
      "source": [
        "## Importação das bibliotecas"
      ]
    },
    {
      "cell_type": "code",
      "execution_count": null,
      "metadata": {
        "id": "dWM3L0bs7gay"
      },
      "outputs": [],
      "source": [
        "import os #importa módulo para manipulação e arquivos\n",
        "import numpy as np #importa numpy\n",
        "from matplotlib import pyplot as plt #importa bilbioteca para criação de gráficos\n",
        "import seaborn as sns #importa biblioteca para geração de gráficos\n",
        "import pandas as pd  #importa bibioteca responsável para o tratamento e limpeza dos dados\n",
        "from glob import glob #importa biblioteca para trabalhar com os diretórios das imagens\n",
        "from sklearn.metrics import accuracy_score, confusion_matrix, classification_report #importa biblioteca de métricas (acurácia, matrix de confusão e relatório de classifição)\n",
        "from tensorflow.keras.preprocessing.image import ImageDataGenerator  #importa biblioteca para trabalhar com imagens\n",
        "from tensorflow.keras import models, layers #importa biblioteca para trabalhar com modelos e camadas de rede neural (CNN)\n",
        "from tensorflow.keras.callbacks import EarlyStopping, ReduceLROnPlateau, TensorBoard, ModelCheckpoint #importa bibliotecas que faz modelo parar de treinar quando uma métrica monitorada para de melhorar.\n",
        "from google.colab import files #importa biblioteca do google colab para realizar upload de arquivos para o projeto\n",
        "from gc import callbacks #importa biblioca de retorno de chamada para monitorar treinamento\n",
        "from google.colab import drive"
      ]
    },
    {
      "cell_type": "code",
      "source": [
        "# Plotagem\n",
        "! sudo apt-get update\n",
        "! sudo apt-get install texlive-latex-recommended\n",
        "! sudo apt-get install dvipng texlive-latex-extra texlive-fonts-recommended\n",
        "! wget http://mirrors.ctan.org/macros/latex/...\n",
        "! unzip type1cm.zip -d /tmp/type1cm\n",
        "! cd /tmp/type1cm/type1cm/ && sudo latex type1cm.ins\n",
        "! sudo mkdir /usr/share/texmf/tex/latex/type1cm\n",
        "! sudo cp /tmp/type1cm/type1cm/type1cm.sty /usr/share/texmf/tex/latex/type1cm\n",
        "! sudo texhash\n",
        "!apt install cm-super\n",
        "\n",
        "import matplotlib\n",
        "from matplotlib import rc\n",
        "rc('font',**{'family':'Times New Roman','size' :12})\n",
        "matplotlib.rcParams['axes.unicode_minus'] = False\n",
        "matplotlib.rc('text', usetex=True)\n",
        "matplotlib.rc('axes', labelsize=12)\n",
        "matplotlib.rc('xtick', labelsize=12)\n",
        "matplotlib.rc('ytick', labelsize=12)\n",
        "matplotlib.rc('lines', lw=1.0,color='k')\n",
        "matplotlib.rc('axes',lw=0.75)\n",
        "matplotlib.rc('legend', fontsize=10)"
      ],
      "metadata": {
        "colab": {
          "base_uri": "https://localhost:8080/"
        },
        "id": "RggucNMxqplr",
        "outputId": "98a4cd9a-cce1-4835-c058-6335525fc4f5"
      },
      "execution_count": null,
      "outputs": [
        {
          "output_type": "stream",
          "name": "stdout",
          "text": [
            "\r0% [Working]\r            \rGet:1 https://cloud.r-project.org/bin/linux/ubuntu jammy-cran40/ InRelease [3,626 B]\n",
            "Get:2 https://developer.download.nvidia.com/compute/cuda/repos/ubuntu2204/x86_64  InRelease [1,581 B]\n",
            "Hit:3 http://archive.ubuntu.com/ubuntu jammy InRelease\n",
            "Get:4 http://archive.ubuntu.com/ubuntu jammy-updates InRelease [119 kB]\n",
            "Hit:5 http://archive.ubuntu.com/ubuntu jammy-backports InRelease\n",
            "Get:6 https://developer.download.nvidia.com/compute/cuda/repos/ubuntu2204/x86_64  Packages [664 kB]\n",
            "Get:7 http://archive.ubuntu.com/ubuntu jammy-updates/multiverse amd64 Packages [50.4 kB]\n",
            "Get:8 http://archive.ubuntu.com/ubuntu jammy-updates/universe amd64 Packages [1,322 kB]\n",
            "Get:9 http://archive.ubuntu.com/ubuntu jammy-updates/restricted amd64 Packages [1,709 kB]\n",
            "Get:10 http://archive.ubuntu.com/ubuntu jammy-updates/main amd64 Packages [1,667 kB]\n",
            "Get:11 https://ppa.launchpadcontent.net/c2d4u.team/c2d4u4.0+/ubuntu jammy InRelease [18.1 kB]\n",
            "Get:12 https://ppa.launchpadcontent.net/deadsnakes/ppa/ubuntu jammy InRelease [18.1 kB]\n",
            "Hit:13 https://ppa.launchpadcontent.net/graphics-drivers/ppa/ubuntu jammy InRelease\n",
            "Hit:14 https://ppa.launchpadcontent.net/ubuntugis/ppa/ubuntu jammy InRelease\n",
            "Get:15 https://ppa.launchpadcontent.net/c2d4u.team/c2d4u4.0+/ubuntu jammy/main Sources [2,264 kB]\n",
            "Get:16 https://ppa.launchpadcontent.net/c2d4u.team/c2d4u4.0+/ubuntu jammy/main amd64 Packages [1,162 kB]\n",
            "Get:17 https://ppa.launchpadcontent.net/deadsnakes/ppa/ubuntu jammy/main amd64 Packages [28.2 kB]\n",
            "Get:18 http://security.ubuntu.com/ubuntu jammy-security InRelease [110 kB]\n",
            "Get:19 http://security.ubuntu.com/ubuntu jammy-security/universe amd64 Packages [1,059 kB]\n",
            "Get:20 http://security.ubuntu.com/ubuntu jammy-security/main amd64 Packages [1,347 kB]\n",
            "Fetched 11.5 MB in 7s (1,579 kB/s)\n",
            "Reading package lists... Done\n",
            "Reading package lists... Done\n",
            "Building dependency tree... Done\n",
            "Reading state information... Done\n",
            "The following additional packages will be installed:\n",
            "  dvisvgm fonts-droid-fallback fonts-lmodern fonts-noto-mono fonts-urw-base35\n",
            "  libfontenc1 libgs9 libgs9-common libidn12 libijs-0.35 libjbig2dec0\n",
            "  libkpathsea6 libptexenc1 libsynctex2 libteckit0 libtexlua53 libtexluajit2\n",
            "  libwoff1 libzzip-0-13 lmodern poppler-data t1utils tex-common texlive-base\n",
            "  texlive-binaries texlive-latex-base xfonts-encodings xfonts-utils\n",
            "Suggested packages:\n",
            "  fonts-noto fonts-freefont-otf | fonts-freefont-ttf fonts-texgyre\n",
            "  poppler-utils ghostscript fonts-japanese-mincho | fonts-ipafont-mincho\n",
            "  fonts-japanese-gothic | fonts-ipafont-gothic fonts-arphic-ukai\n",
            "  fonts-arphic-uming fonts-nanum debhelper gv | postscript-viewer perl-tk xpdf\n",
            "  | pdf-viewer xzdec texlive-latex-base-doc texlive-latex-recommended-doc\n",
            "  texlive-luatex texlive-pstricks\n",
            "The following NEW packages will be installed:\n",
            "  dvisvgm fonts-droid-fallback fonts-lmodern fonts-noto-mono fonts-urw-base35\n",
            "  libfontenc1 libgs9 libgs9-common libidn12 libijs-0.35 libjbig2dec0\n",
            "  libkpathsea6 libptexenc1 libsynctex2 libteckit0 libtexlua53 libtexluajit2\n",
            "  libwoff1 libzzip-0-13 lmodern poppler-data t1utils tex-common texlive-base\n",
            "  texlive-binaries texlive-latex-base texlive-latex-recommended\n",
            "  xfonts-encodings xfonts-utils\n",
            "0 upgraded, 29 newly installed, 0 to remove and 44 not upgraded.\n",
            "Need to get 80.1 MB of archives.\n",
            "After this operation, 254 MB of additional disk space will be used.\n",
            "Get:1 http://archive.ubuntu.com/ubuntu jammy/main amd64 fonts-droid-fallback all 1:6.0.1r16-1.1build1 [1,805 kB]\n",
            "Get:2 http://archive.ubuntu.com/ubuntu jammy/main amd64 poppler-data all 0.4.11-1 [2,171 kB]\n",
            "Get:3 http://archive.ubuntu.com/ubuntu jammy/universe amd64 tex-common all 6.17 [33.7 kB]\n",
            "Get:4 http://archive.ubuntu.com/ubuntu jammy/main amd64 fonts-urw-base35 all 20200910-1 [6,367 kB]\n",
            "Get:5 http://archive.ubuntu.com/ubuntu jammy-updates/main amd64 libgs9-common all 9.55.0~dfsg1-0ubuntu5.6 [751 kB]\n",
            "Get:6 http://archive.ubuntu.com/ubuntu jammy-updates/main amd64 libidn12 amd64 1.38-4ubuntu1 [60.0 kB]\n",
            "Get:7 http://archive.ubuntu.com/ubuntu jammy/main amd64 libijs-0.35 amd64 0.35-15build2 [16.5 kB]\n",
            "Get:8 http://archive.ubuntu.com/ubuntu jammy/main amd64 libjbig2dec0 amd64 0.19-3build2 [64.7 kB]\n",
            "Get:9 http://archive.ubuntu.com/ubuntu jammy-updates/main amd64 libgs9 amd64 9.55.0~dfsg1-0ubuntu5.6 [5,031 kB]\n",
            "Get:10 http://archive.ubuntu.com/ubuntu jammy-updates/main amd64 libkpathsea6 amd64 2021.20210626.59705-1ubuntu0.1 [60.3 kB]\n",
            "Get:11 http://archive.ubuntu.com/ubuntu jammy/main amd64 libwoff1 amd64 1.0.2-1build4 [45.2 kB]\n",
            "Get:12 http://archive.ubuntu.com/ubuntu jammy/universe amd64 dvisvgm amd64 2.13.1-1 [1,221 kB]\n",
            "Get:13 http://archive.ubuntu.com/ubuntu jammy/universe amd64 fonts-lmodern all 2.004.5-6.1 [4,532 kB]\n",
            "Get:14 http://archive.ubuntu.com/ubuntu jammy/main amd64 fonts-noto-mono all 20201225-1build1 [397 kB]\n",
            "Get:15 http://archive.ubuntu.com/ubuntu jammy/main amd64 libfontenc1 amd64 1:1.1.4-1build3 [14.7 kB]\n",
            "Get:16 http://archive.ubuntu.com/ubuntu jammy-updates/main amd64 libptexenc1 amd64 2021.20210626.59705-1ubuntu0.1 [39.1 kB]\n",
            "Get:17 http://archive.ubuntu.com/ubuntu jammy-updates/main amd64 libsynctex2 amd64 2021.20210626.59705-1ubuntu0.1 [55.5 kB]\n",
            "Get:18 http://archive.ubuntu.com/ubuntu jammy/universe amd64 libteckit0 amd64 2.5.11+ds1-1 [421 kB]\n",
            "Get:19 http://archive.ubuntu.com/ubuntu jammy-updates/main amd64 libtexlua53 amd64 2021.20210626.59705-1ubuntu0.1 [120 kB]\n",
            "Get:20 http://archive.ubuntu.com/ubuntu jammy-updates/main amd64 libtexluajit2 amd64 2021.20210626.59705-1ubuntu0.1 [267 kB]\n",
            "Get:21 http://archive.ubuntu.com/ubuntu jammy/universe amd64 libzzip-0-13 amd64 0.13.72+dfsg.1-1.1 [27.0 kB]\n",
            "Get:22 http://archive.ubuntu.com/ubuntu jammy/main amd64 xfonts-encodings all 1:1.0.5-0ubuntu2 [578 kB]\n",
            "Get:23 http://archive.ubuntu.com/ubuntu jammy/main amd64 xfonts-utils amd64 1:7.7+6build2 [94.6 kB]\n",
            "Get:24 http://archive.ubuntu.com/ubuntu jammy/universe amd64 lmodern all 2.004.5-6.1 [9,471 kB]\n",
            "Get:25 http://archive.ubuntu.com/ubuntu jammy/main amd64 t1utils amd64 1.41-4build2 [61.3 kB]\n",
            "Get:26 http://archive.ubuntu.com/ubuntu jammy-updates/universe amd64 texlive-binaries amd64 2021.20210626.59705-1ubuntu0.1 [9,848 kB]\n",
            "Get:27 http://archive.ubuntu.com/ubuntu jammy/universe amd64 texlive-base all 2021.20220204-1 [21.0 MB]\n",
            "Get:28 http://archive.ubuntu.com/ubuntu jammy/universe amd64 texlive-latex-base all 2021.20220204-1 [1,128 kB]\n",
            "Get:29 http://archive.ubuntu.com/ubuntu jammy/universe amd64 texlive-latex-recommended all 2021.20220204-1 [14.4 MB]\n",
            "Fetched 80.1 MB in 1s (70.7 MB/s)\n",
            "debconf: unable to initialize frontend: Dialog\n",
            "debconf: (No usable dialog-like program is installed, so the dialog based frontend cannot be used. at /usr/share/perl5/Debconf/FrontEnd/Dialog.pm line 78, <> line 29.)\n",
            "debconf: falling back to frontend: Readline\n",
            "debconf: unable to initialize frontend: Readline\n",
            "debconf: (This frontend requires a controlling tty.)\n",
            "debconf: falling back to frontend: Teletype\n",
            "dpkg-preconfigure: unable to re-open stdin: \n",
            "Selecting previously unselected package fonts-droid-fallback.\n",
            "(Reading database ... 121658 files and directories currently installed.)\n",
            "Preparing to unpack .../00-fonts-droid-fallback_1%3a6.0.1r16-1.1build1_all.deb ...\n",
            "Unpacking fonts-droid-fallback (1:6.0.1r16-1.1build1) ...\n",
            "Selecting previously unselected package poppler-data.\n",
            "Preparing to unpack .../01-poppler-data_0.4.11-1_all.deb ...\n",
            "Unpacking poppler-data (0.4.11-1) ...\n",
            "Selecting previously unselected package tex-common.\n",
            "Preparing to unpack .../02-tex-common_6.17_all.deb ...\n",
            "Unpacking tex-common (6.17) ...\n",
            "Selecting previously unselected package fonts-urw-base35.\n",
            "Preparing to unpack .../03-fonts-urw-base35_20200910-1_all.deb ...\n",
            "Unpacking fonts-urw-base35 (20200910-1) ...\n",
            "Selecting previously unselected package libgs9-common.\n",
            "Preparing to unpack .../04-libgs9-common_9.55.0~dfsg1-0ubuntu5.6_all.deb ...\n",
            "Unpacking libgs9-common (9.55.0~dfsg1-0ubuntu5.6) ...\n",
            "Selecting previously unselected package libidn12:amd64.\n",
            "Preparing to unpack .../05-libidn12_1.38-4ubuntu1_amd64.deb ...\n",
            "Unpacking libidn12:amd64 (1.38-4ubuntu1) ...\n",
            "Selecting previously unselected package libijs-0.35:amd64.\n",
            "Preparing to unpack .../06-libijs-0.35_0.35-15build2_amd64.deb ...\n",
            "Unpacking libijs-0.35:amd64 (0.35-15build2) ...\n",
            "Selecting previously unselected package libjbig2dec0:amd64.\n",
            "Preparing to unpack .../07-libjbig2dec0_0.19-3build2_amd64.deb ...\n",
            "Unpacking libjbig2dec0:amd64 (0.19-3build2) ...\n",
            "Selecting previously unselected package libgs9:amd64.\n",
            "Preparing to unpack .../08-libgs9_9.55.0~dfsg1-0ubuntu5.6_amd64.deb ...\n",
            "Unpacking libgs9:amd64 (9.55.0~dfsg1-0ubuntu5.6) ...\n",
            "Selecting previously unselected package libkpathsea6:amd64.\n",
            "Preparing to unpack .../09-libkpathsea6_2021.20210626.59705-1ubuntu0.1_amd64.deb ...\n",
            "Unpacking libkpathsea6:amd64 (2021.20210626.59705-1ubuntu0.1) ...\n",
            "Selecting previously unselected package libwoff1:amd64.\n",
            "Preparing to unpack .../10-libwoff1_1.0.2-1build4_amd64.deb ...\n",
            "Unpacking libwoff1:amd64 (1.0.2-1build4) ...\n",
            "Selecting previously unselected package dvisvgm.\n",
            "Preparing to unpack .../11-dvisvgm_2.13.1-1_amd64.deb ...\n",
            "Unpacking dvisvgm (2.13.1-1) ...\n",
            "Selecting previously unselected package fonts-lmodern.\n",
            "Preparing to unpack .../12-fonts-lmodern_2.004.5-6.1_all.deb ...\n",
            "Unpacking fonts-lmodern (2.004.5-6.1) ...\n",
            "Selecting previously unselected package fonts-noto-mono.\n",
            "Preparing to unpack .../13-fonts-noto-mono_20201225-1build1_all.deb ...\n",
            "Unpacking fonts-noto-mono (20201225-1build1) ...\n",
            "Selecting previously unselected package libfontenc1:amd64.\n",
            "Preparing to unpack .../14-libfontenc1_1%3a1.1.4-1build3_amd64.deb ...\n",
            "Unpacking libfontenc1:amd64 (1:1.1.4-1build3) ...\n",
            "Selecting previously unselected package libptexenc1:amd64.\n",
            "Preparing to unpack .../15-libptexenc1_2021.20210626.59705-1ubuntu0.1_amd64.deb ...\n",
            "Unpacking libptexenc1:amd64 (2021.20210626.59705-1ubuntu0.1) ...\n",
            "Selecting previously unselected package libsynctex2:amd64.\n",
            "Preparing to unpack .../16-libsynctex2_2021.20210626.59705-1ubuntu0.1_amd64.deb ...\n",
            "Unpacking libsynctex2:amd64 (2021.20210626.59705-1ubuntu0.1) ...\n",
            "Selecting previously unselected package libteckit0:amd64.\n",
            "Preparing to unpack .../17-libteckit0_2.5.11+ds1-1_amd64.deb ...\n",
            "Unpacking libteckit0:amd64 (2.5.11+ds1-1) ...\n",
            "Selecting previously unselected package libtexlua53:amd64.\n",
            "Preparing to unpack .../18-libtexlua53_2021.20210626.59705-1ubuntu0.1_amd64.deb ...\n",
            "Unpacking libtexlua53:amd64 (2021.20210626.59705-1ubuntu0.1) ...\n",
            "Selecting previously unselected package libtexluajit2:amd64.\n",
            "Preparing to unpack .../19-libtexluajit2_2021.20210626.59705-1ubuntu0.1_amd64.deb ...\n",
            "Unpacking libtexluajit2:amd64 (2021.20210626.59705-1ubuntu0.1) ...\n",
            "Selecting previously unselected package libzzip-0-13:amd64.\n",
            "Preparing to unpack .../20-libzzip-0-13_0.13.72+dfsg.1-1.1_amd64.deb ...\n",
            "Unpacking libzzip-0-13:amd64 (0.13.72+dfsg.1-1.1) ...\n",
            "Selecting previously unselected package xfonts-encodings.\n",
            "Preparing to unpack .../21-xfonts-encodings_1%3a1.0.5-0ubuntu2_all.deb ...\n",
            "Unpacking xfonts-encodings (1:1.0.5-0ubuntu2) ...\n",
            "Selecting previously unselected package xfonts-utils.\n",
            "Preparing to unpack .../22-xfonts-utils_1%3a7.7+6build2_amd64.deb ...\n",
            "Unpacking xfonts-utils (1:7.7+6build2) ...\n",
            "Selecting previously unselected package lmodern.\n",
            "Preparing to unpack .../23-lmodern_2.004.5-6.1_all.deb ...\n",
            "Unpacking lmodern (2.004.5-6.1) ...\n",
            "Selecting previously unselected package t1utils.\n",
            "Preparing to unpack .../24-t1utils_1.41-4build2_amd64.deb ...\n",
            "Unpacking t1utils (1.41-4build2) ...\n",
            "Selecting previously unselected package texlive-binaries.\n",
            "Preparing to unpack .../25-texlive-binaries_2021.20210626.59705-1ubuntu0.1_amd64.deb ...\n",
            "Unpacking texlive-binaries (2021.20210626.59705-1ubuntu0.1) ...\n",
            "Selecting previously unselected package texlive-base.\n",
            "Preparing to unpack .../26-texlive-base_2021.20220204-1_all.deb ...\n",
            "Unpacking texlive-base (2021.20220204-1) ...\n",
            "Selecting previously unselected package texlive-latex-base.\n",
            "Preparing to unpack .../27-texlive-latex-base_2021.20220204-1_all.deb ...\n",
            "Unpacking texlive-latex-base (2021.20220204-1) ...\n",
            "Selecting previously unselected package texlive-latex-recommended.\n",
            "Preparing to unpack .../28-texlive-latex-recommended_2021.20220204-1_all.deb ...\n",
            "Unpacking texlive-latex-recommended (2021.20220204-1) ...\n",
            "Setting up fonts-noto-mono (20201225-1build1) ...\n",
            "Setting up libwoff1:amd64 (1.0.2-1build4) ...\n",
            "Setting up libtexlua53:amd64 (2021.20210626.59705-1ubuntu0.1) ...\n",
            "Setting up libijs-0.35:amd64 (0.35-15build2) ...\n",
            "Setting up libtexluajit2:amd64 (2021.20210626.59705-1ubuntu0.1) ...\n",
            "Setting up libzzip-0-13:amd64 (0.13.72+dfsg.1-1.1) ...\n",
            "Setting up fonts-urw-base35 (20200910-1) ...\n",
            "Setting up poppler-data (0.4.11-1) ...\n",
            "Setting up tex-common (6.17) ...\n",
            "debconf: unable to initialize frontend: Dialog\n",
            "debconf: (No usable dialog-like program is installed, so the dialog based frontend cannot be used. at /usr/share/perl5/Debconf/FrontEnd/Dialog.pm line 78.)\n",
            "debconf: falling back to frontend: Readline\n",
            "update-language: texlive-base not installed and configured, doing nothing!\n",
            "Setting up libfontenc1:amd64 (1:1.1.4-1build3) ...\n",
            "Setting up libjbig2dec0:amd64 (0.19-3build2) ...\n",
            "Setting up libteckit0:amd64 (2.5.11+ds1-1) ...\n",
            "Setting up xfonts-encodings (1:1.0.5-0ubuntu2) ...\n",
            "Setting up t1utils (1.41-4build2) ...\n",
            "Setting up libidn12:amd64 (1.38-4ubuntu1) ...\n",
            "Setting up libkpathsea6:amd64 (2021.20210626.59705-1ubuntu0.1) ...\n",
            "Setting up fonts-lmodern (2.004.5-6.1) ...\n",
            "Setting up fonts-droid-fallback (1:6.0.1r16-1.1build1) ...\n",
            "Setting up libsynctex2:amd64 (2021.20210626.59705-1ubuntu0.1) ...\n",
            "Setting up libgs9-common (9.55.0~dfsg1-0ubuntu5.6) ...\n",
            "Setting up libgs9:amd64 (9.55.0~dfsg1-0ubuntu5.6) ...\n",
            "Setting up dvisvgm (2.13.1-1) ...\n",
            "Setting up xfonts-utils (1:7.7+6build2) ...\n",
            "Setting up libptexenc1:amd64 (2021.20210626.59705-1ubuntu0.1) ...\n",
            "Setting up texlive-binaries (2021.20210626.59705-1ubuntu0.1) ...\n",
            "update-alternatives: using /usr/bin/xdvi-xaw to provide /usr/bin/xdvi.bin (xdvi.bin) in auto mode\n",
            "update-alternatives: using /usr/bin/bibtex.original to provide /usr/bin/bibtex (bibtex) in auto mode\n",
            "Setting up lmodern (2.004.5-6.1) ...\n",
            "Setting up texlive-base (2021.20220204-1) ...\n",
            "/usr/bin/ucfr\n",
            "/usr/bin/ucfr\n",
            "/usr/bin/ucfr\n",
            "/usr/bin/ucfr\n",
            "mktexlsr: Updating /var/lib/texmf/ls-R-TEXLIVEDIST... \n",
            "mktexlsr: Updating /var/lib/texmf/ls-R-TEXMFMAIN... \n",
            "mktexlsr: Updating /var/lib/texmf/ls-R... \n",
            "mktexlsr: Done.\n",
            "tl-paper: setting paper size for dvips to a4: /var/lib/texmf/dvips/config/config-paper.ps\n",
            "tl-paper: setting paper size for dvipdfmx to a4: /var/lib/texmf/dvipdfmx/dvipdfmx-paper.cfg\n",
            "tl-paper: setting paper size for xdvi to a4: /var/lib/texmf/xdvi/XDvi-paper\n",
            "tl-paper: setting paper size for pdftex to a4: /var/lib/texmf/tex/generic/tex-ini-files/pdftexconfig.tex\n",
            "debconf: unable to initialize frontend: Dialog\n",
            "debconf: (No usable dialog-like program is installed, so the dialog based frontend cannot be used. at /usr/share/perl5/Debconf/FrontEnd/Dialog.pm line 78.)\n",
            "debconf: falling back to frontend: Readline\n",
            "Setting up texlive-latex-base (2021.20220204-1) ...\n",
            "Setting up texlive-latex-recommended (2021.20220204-1) ...\n",
            "Processing triggers for libc-bin (2.35-0ubuntu3.4) ...\n",
            "/sbin/ldconfig.real: /usr/local/lib/libtbbbind_2_0.so.3 is not a symbolic link\n",
            "\n",
            "/sbin/ldconfig.real: /usr/local/lib/libtbbbind.so.3 is not a symbolic link\n",
            "\n",
            "/sbin/ldconfig.real: /usr/local/lib/libtbb.so.12 is not a symbolic link\n",
            "\n",
            "/sbin/ldconfig.real: /usr/local/lib/libtbbmalloc.so.2 is not a symbolic link\n",
            "\n",
            "/sbin/ldconfig.real: /usr/local/lib/libtbbbind_2_5.so.3 is not a symbolic link\n",
            "\n",
            "/sbin/ldconfig.real: /usr/local/lib/libtbbmalloc_proxy.so.2 is not a symbolic link\n",
            "\n",
            "Processing triggers for man-db (2.10.2-1) ...\n",
            "Processing triggers for fontconfig (2.13.1-4.2ubuntu5) ...\n",
            "Processing triggers for tex-common (6.17) ...\n",
            "debconf: unable to initialize frontend: Dialog\n",
            "debconf: (No usable dialog-like program is installed, so the dialog based frontend cannot be used. at /usr/share/perl5/Debconf/FrontEnd/Dialog.pm line 78.)\n",
            "debconf: falling back to frontend: Readline\n",
            "Running updmap-sys. This may take some time... done.\n",
            "Running mktexlsr /var/lib/texmf ... done.\n",
            "Building format(s) --all.\n",
            "\tThis may take some time... done.\n",
            "Reading package lists... Done\n",
            "Building dependency tree... Done\n",
            "Reading state information... Done\n",
            "The following additional packages will be installed:\n",
            "  fonts-lato fonts-texgyre ghostscript libapache-pom-java\n",
            "  libcommons-logging-java libcommons-parent-java libfontbox-java\n",
            "  libpdfbox-java libruby3.0 preview-latex-style rake ruby ruby-net-telnet\n",
            "  ruby-rubygems ruby-webrick ruby-xmlrpc ruby3.0 rubygems-integration tex-gyre\n",
            "  texlive-pictures texlive-plain-generic tipa\n",
            "Suggested packages:\n",
            "  ghostscript-x libavalon-framework-java libcommons-logging-java-doc\n",
            "  libexcalibur-logkit-java liblog4j1.2-java ri ruby-dev bundler\n",
            "  texlive-fonts-recommended-doc python3-pygments icc-profiles\n",
            "  libfile-which-perl libspreadsheet-parseexcel-perl texlive-latex-extra-doc\n",
            "  dot2tex prerex texlive-pictures-doc vprerex default-jre-headless tipa-doc\n",
            "The following NEW packages will be installed:\n",
            "  dvipng fonts-lato fonts-texgyre ghostscript libapache-pom-java\n",
            "  libcommons-logging-java libcommons-parent-java libfontbox-java\n",
            "  libpdfbox-java libruby3.0 preview-latex-style rake ruby ruby-net-telnet\n",
            "  ruby-rubygems ruby-webrick ruby-xmlrpc ruby3.0 rubygems-integration tex-gyre\n",
            "  texlive-fonts-recommended texlive-latex-extra texlive-pictures\n",
            "  texlive-plain-generic tipa\n",
            "0 upgraded, 25 newly installed, 0 to remove and 44 not upgraded.\n",
            "Need to get 88.5 MB of archives.\n",
            "After this operation, 299 MB of additional disk space will be used.\n",
            "Get:1 http://archive.ubuntu.com/ubuntu jammy/main amd64 fonts-lato all 2.0-2.1 [2,696 kB]\n",
            "Get:2 http://archive.ubuntu.com/ubuntu jammy-updates/main amd64 ghostscript amd64 9.55.0~dfsg1-0ubuntu5.6 [49.4 kB]\n",
            "Get:3 http://archive.ubuntu.com/ubuntu jammy/universe amd64 dvipng amd64 1.15-1.1 [78.9 kB]\n",
            "Get:4 http://archive.ubuntu.com/ubuntu jammy/universe amd64 fonts-texgyre all 20180621-3.1 [10.2 MB]\n",
            "Get:5 http://archive.ubuntu.com/ubuntu jammy/universe amd64 libapache-pom-java all 18-1 [4,720 B]\n",
            "Get:6 http://archive.ubuntu.com/ubuntu jammy/universe amd64 libcommons-parent-java all 43-1 [10.8 kB]\n",
            "Get:7 http://archive.ubuntu.com/ubuntu jammy/universe amd64 libcommons-logging-java all 1.2-2 [60.3 kB]\n",
            "Get:8 http://archive.ubuntu.com/ubuntu jammy/main amd64 rubygems-integration all 1.18 [5,336 B]\n",
            "Get:9 http://archive.ubuntu.com/ubuntu jammy-updates/main amd64 ruby3.0 amd64 3.0.2-7ubuntu2.4 [50.1 kB]\n",
            "Get:10 http://archive.ubuntu.com/ubuntu jammy/main amd64 ruby-rubygems all 3.3.5-2 [228 kB]\n",
            "Get:11 http://archive.ubuntu.com/ubuntu jammy/main amd64 ruby amd64 1:3.0~exp1 [5,100 B]\n",
            "Get:12 http://archive.ubuntu.com/ubuntu jammy/main amd64 rake all 13.0.6-2 [61.7 kB]\n",
            "Get:13 http://archive.ubuntu.com/ubuntu jammy/main amd64 ruby-net-telnet all 0.1.1-2 [12.6 kB]\n",
            "Get:14 http://archive.ubuntu.com/ubuntu jammy/universe amd64 ruby-webrick all 1.7.0-3 [51.8 kB]\n",
            "Get:15 http://archive.ubuntu.com/ubuntu jammy-updates/main amd64 ruby-xmlrpc all 0.3.2-1ubuntu0.1 [24.9 kB]\n",
            "Get:16 http://archive.ubuntu.com/ubuntu jammy-updates/main amd64 libruby3.0 amd64 3.0.2-7ubuntu2.4 [5,113 kB]\n",
            "Get:17 http://archive.ubuntu.com/ubuntu jammy/universe amd64 preview-latex-style all 12.2-1ubuntu1 [185 kB]\n",
            "Get:18 http://archive.ubuntu.com/ubuntu jammy/universe amd64 tex-gyre all 20180621-3.1 [6,209 kB]\n",
            "Get:19 http://archive.ubuntu.com/ubuntu jammy/universe amd64 texlive-fonts-recommended all 2021.20220204-1 [4,972 kB]\n",
            "Get:20 http://archive.ubuntu.com/ubuntu jammy/universe amd64 libfontbox-java all 1:1.8.16-2 [207 kB]\n",
            "Get:21 http://archive.ubuntu.com/ubuntu jammy/universe amd64 libpdfbox-java all 1:1.8.16-2 [5,199 kB]\n",
            "Get:22 http://archive.ubuntu.com/ubuntu jammy/universe amd64 texlive-pictures all 2021.20220204-1 [8,720 kB]\n",
            "Get:23 http://archive.ubuntu.com/ubuntu jammy/universe amd64 texlive-latex-extra all 2021.20220204-1 [13.9 MB]\n",
            "Get:24 http://archive.ubuntu.com/ubuntu jammy/universe amd64 texlive-plain-generic all 2021.20220204-1 [27.5 MB]\n",
            "Get:25 http://archive.ubuntu.com/ubuntu jammy/universe amd64 tipa all 2:1.3-21 [2,967 kB]\n",
            "Fetched 88.5 MB in 1s (76.2 MB/s)\n",
            "debconf: unable to initialize frontend: Dialog\n",
            "debconf: (No usable dialog-like program is installed, so the dialog based frontend cannot be used. at /usr/share/perl5/Debconf/FrontEnd/Dialog.pm line 78, <> line 25.)\n",
            "debconf: falling back to frontend: Readline\n",
            "debconf: unable to initialize frontend: Readline\n",
            "debconf: (This frontend requires a controlling tty.)\n",
            "debconf: falling back to frontend: Teletype\n",
            "dpkg-preconfigure: unable to re-open stdin: \n",
            "Selecting previously unselected package fonts-lato.\n",
            "(Reading database ... 131170 files and directories currently installed.)\n",
            "Preparing to unpack .../00-fonts-lato_2.0-2.1_all.deb ...\n",
            "Unpacking fonts-lato (2.0-2.1) ...\n",
            "Selecting previously unselected package ghostscript.\n",
            "Preparing to unpack .../01-ghostscript_9.55.0~dfsg1-0ubuntu5.6_amd64.deb ...\n",
            "Unpacking ghostscript (9.55.0~dfsg1-0ubuntu5.6) ...\n",
            "Selecting previously unselected package dvipng.\n",
            "Preparing to unpack .../02-dvipng_1.15-1.1_amd64.deb ...\n",
            "Unpacking dvipng (1.15-1.1) ...\n",
            "Selecting previously unselected package fonts-texgyre.\n",
            "Preparing to unpack .../03-fonts-texgyre_20180621-3.1_all.deb ...\n",
            "Unpacking fonts-texgyre (20180621-3.1) ...\n",
            "Selecting previously unselected package libapache-pom-java.\n",
            "Preparing to unpack .../04-libapache-pom-java_18-1_all.deb ...\n",
            "Unpacking libapache-pom-java (18-1) ...\n",
            "Selecting previously unselected package libcommons-parent-java.\n",
            "Preparing to unpack .../05-libcommons-parent-java_43-1_all.deb ...\n",
            "Unpacking libcommons-parent-java (43-1) ...\n",
            "Selecting previously unselected package libcommons-logging-java.\n",
            "Preparing to unpack .../06-libcommons-logging-java_1.2-2_all.deb ...\n",
            "Unpacking libcommons-logging-java (1.2-2) ...\n",
            "Selecting previously unselected package rubygems-integration.\n",
            "Preparing to unpack .../07-rubygems-integration_1.18_all.deb ...\n",
            "Unpacking rubygems-integration (1.18) ...\n",
            "Selecting previously unselected package ruby3.0.\n",
            "Preparing to unpack .../08-ruby3.0_3.0.2-7ubuntu2.4_amd64.deb ...\n",
            "Unpacking ruby3.0 (3.0.2-7ubuntu2.4) ...\n",
            "Selecting previously unselected package ruby-rubygems.\n",
            "Preparing to unpack .../09-ruby-rubygems_3.3.5-2_all.deb ...\n",
            "Unpacking ruby-rubygems (3.3.5-2) ...\n",
            "Selecting previously unselected package ruby.\n",
            "Preparing to unpack .../10-ruby_1%3a3.0~exp1_amd64.deb ...\n",
            "Unpacking ruby (1:3.0~exp1) ...\n",
            "Selecting previously unselected package rake.\n",
            "Preparing to unpack .../11-rake_13.0.6-2_all.deb ...\n",
            "Unpacking rake (13.0.6-2) ...\n",
            "Selecting previously unselected package ruby-net-telnet.\n",
            "Preparing to unpack .../12-ruby-net-telnet_0.1.1-2_all.deb ...\n",
            "Unpacking ruby-net-telnet (0.1.1-2) ...\n",
            "Selecting previously unselected package ruby-webrick.\n",
            "Preparing to unpack .../13-ruby-webrick_1.7.0-3_all.deb ...\n",
            "Unpacking ruby-webrick (1.7.0-3) ...\n",
            "Selecting previously unselected package ruby-xmlrpc.\n",
            "Preparing to unpack .../14-ruby-xmlrpc_0.3.2-1ubuntu0.1_all.deb ...\n",
            "Unpacking ruby-xmlrpc (0.3.2-1ubuntu0.1) ...\n",
            "Selecting previously unselected package libruby3.0:amd64.\n",
            "Preparing to unpack .../15-libruby3.0_3.0.2-7ubuntu2.4_amd64.deb ...\n",
            "Unpacking libruby3.0:amd64 (3.0.2-7ubuntu2.4) ...\n",
            "Selecting previously unselected package preview-latex-style.\n",
            "Preparing to unpack .../16-preview-latex-style_12.2-1ubuntu1_all.deb ...\n",
            "Unpacking preview-latex-style (12.2-1ubuntu1) ...\n",
            "Selecting previously unselected package tex-gyre.\n",
            "Preparing to unpack .../17-tex-gyre_20180621-3.1_all.deb ...\n",
            "Unpacking tex-gyre (20180621-3.1) ...\n",
            "Selecting previously unselected package texlive-fonts-recommended.\n",
            "Preparing to unpack .../18-texlive-fonts-recommended_2021.20220204-1_all.deb ...\n",
            "Unpacking texlive-fonts-recommended (2021.20220204-1) ...\n",
            "Selecting previously unselected package libfontbox-java.\n",
            "Preparing to unpack .../19-libfontbox-java_1%3a1.8.16-2_all.deb ...\n",
            "Unpacking libfontbox-java (1:1.8.16-2) ...\n",
            "Selecting previously unselected package libpdfbox-java.\n",
            "Preparing to unpack .../20-libpdfbox-java_1%3a1.8.16-2_all.deb ...\n",
            "Unpacking libpdfbox-java (1:1.8.16-2) ...\n",
            "Selecting previously unselected package texlive-pictures.\n",
            "Preparing to unpack .../21-texlive-pictures_2021.20220204-1_all.deb ...\n",
            "Unpacking texlive-pictures (2021.20220204-1) ...\n",
            "Selecting previously unselected package texlive-latex-extra.\n",
            "Preparing to unpack .../22-texlive-latex-extra_2021.20220204-1_all.deb ...\n",
            "Unpacking texlive-latex-extra (2021.20220204-1) ...\n",
            "Selecting previously unselected package texlive-plain-generic.\n",
            "Preparing to unpack .../23-texlive-plain-generic_2021.20220204-1_all.deb ...\n",
            "Unpacking texlive-plain-generic (2021.20220204-1) ...\n",
            "Selecting previously unselected package tipa.\n",
            "Preparing to unpack .../24-tipa_2%3a1.3-21_all.deb ...\n",
            "Unpacking tipa (2:1.3-21) ...\n",
            "Setting up fonts-lato (2.0-2.1) ...\n",
            "Setting up preview-latex-style (12.2-1ubuntu1) ...\n",
            "Setting up libfontbox-java (1:1.8.16-2) ...\n",
            "Setting up texlive-plain-generic (2021.20220204-1) ...\n",
            "Setting up rubygems-integration (1.18) ...\n",
            "Setting up ghostscript (9.55.0~dfsg1-0ubuntu5.6) ...\n",
            "Setting up libapache-pom-java (18-1) ...\n",
            "Setting up ruby-net-telnet (0.1.1-2) ...\n",
            "Setting up fonts-texgyre (20180621-3.1) ...\n",
            "Setting up texlive-pictures (2021.20220204-1) ...\n",
            "Setting up ruby-webrick (1.7.0-3) ...\n",
            "Setting up texlive-fonts-recommended (2021.20220204-1) ...\n",
            "Setting up tipa (2:1.3-21) ...\n",
            "Setting up ruby-xmlrpc (0.3.2-1ubuntu0.1) ...\n",
            "Setting up tex-gyre (20180621-3.1) ...\n",
            "Setting up libpdfbox-java (1:1.8.16-2) ...\n",
            "Setting up dvipng (1.15-1.1) ...\n",
            "Setting up libcommons-parent-java (43-1) ...\n",
            "Setting up libcommons-logging-java (1.2-2) ...\n",
            "Setting up texlive-latex-extra (2021.20220204-1) ...\n",
            "Setting up libruby3.0:amd64 (3.0.2-7ubuntu2.4) ...\n",
            "Setting up ruby3.0 (3.0.2-7ubuntu2.4) ...\n",
            "Setting up ruby (1:3.0~exp1) ...\n",
            "Setting up rake (13.0.6-2) ...\n",
            "Setting up ruby-rubygems (3.3.5-2) ...\n",
            "Processing triggers for man-db (2.10.2-1) ...\n",
            "Processing triggers for tex-common (6.17) ...\n",
            "debconf: unable to initialize frontend: Dialog\n",
            "debconf: (No usable dialog-like program is installed, so the dialog based frontend cannot be used. at /usr/share/perl5/Debconf/FrontEnd/Dialog.pm line 78.)\n",
            "debconf: falling back to frontend: Readline\n",
            "Running mktexlsr. This may take some time... done.\n",
            "Running updmap-sys. This may take some time... done.\n",
            "Running mktexlsr /var/lib/texmf ... done.\n",
            "Building format(s) --all.\n",
            "\tThis may take some time... done.\n",
            "Processing triggers for fontconfig (2.13.1-4.2ubuntu5) ...\n",
            "Processing triggers for libc-bin (2.35-0ubuntu3.4) ...\n",
            "/sbin/ldconfig.real: /usr/local/lib/libtbbbind_2_0.so.3 is not a symbolic link\n",
            "\n",
            "/sbin/ldconfig.real: /usr/local/lib/libtbbbind.so.3 is not a symbolic link\n",
            "\n",
            "/sbin/ldconfig.real: /usr/local/lib/libtbb.so.12 is not a symbolic link\n",
            "\n",
            "/sbin/ldconfig.real: /usr/local/lib/libtbbmalloc.so.2 is not a symbolic link\n",
            "\n",
            "/sbin/ldconfig.real: /usr/local/lib/libtbbbind_2_5.so.3 is not a symbolic link\n",
            "\n",
            "/sbin/ldconfig.real: /usr/local/lib/libtbbmalloc_proxy.so.2 is not a symbolic link\n",
            "\n",
            "--2024-01-25 14:06:05--  http://mirrors.ctan.org/macros/latex/...\n",
            "Resolving mirrors.ctan.org (mirrors.ctan.org)... 89.58.7.101\n",
            "Connecting to mirrors.ctan.org (mirrors.ctan.org)|89.58.7.101|:80... connected.\n",
            "HTTP request sent, awaiting response... 302 Found\n",
            "Location: https://mirror.koddos.net/CTAN/macros/latex/... [following]\n",
            "--2024-01-25 14:06:05--  https://mirror.koddos.net/CTAN/macros/latex/...\n",
            "Resolving mirror.koddos.net (mirror.koddos.net)... 31.220.0.151, 2001:590:3803::31:151\n",
            "Connecting to mirror.koddos.net (mirror.koddos.net)|31.220.0.151|:443... connected.\n",
            "HTTP request sent, awaiting response... 404 Not Found\n",
            "2024-01-25 14:06:05 ERROR 404: Not Found.\n",
            "\n",
            "unzip:  cannot find or open type1cm.zip, type1cm.zip.zip or type1cm.zip.ZIP.\n",
            "/bin/bash: line 1: cd: /tmp/type1cm/type1cm/: No such file or directory\n",
            "cp: cannot stat '/tmp/type1cm/type1cm/type1cm.sty': No such file or directory\n",
            "texhash: Updating /usr/local/share/texmf/ls-R... \n",
            "texhash: Updating /var/lib/texmf/ls-R-TEXLIVEDIST... \n",
            "texhash: Updating /var/lib/texmf/ls-R-TEXMFMAIN... \n",
            "texhash: Updating /var/lib/texmf/ls-R... \n",
            "texhash: Done.\n",
            "Reading package lists... Done\n",
            "Building dependency tree... Done\n",
            "Reading state information... Done\n",
            "The following additional packages will be installed:\n",
            "  cm-super-minimal pfb2t1c2pfb\n",
            "The following NEW packages will be installed:\n",
            "  cm-super cm-super-minimal pfb2t1c2pfb\n",
            "0 upgraded, 3 newly installed, 0 to remove and 44 not upgraded.\n",
            "Need to get 26.0 MB of archives.\n",
            "After this operation, 59.9 MB of additional disk space will be used.\n",
            "Get:1 http://archive.ubuntu.com/ubuntu jammy/universe amd64 cm-super-minimal all 0.3.4-17 [5,777 kB]\n",
            "Get:2 http://archive.ubuntu.com/ubuntu jammy/universe amd64 pfb2t1c2pfb amd64 0.3-11 [9,342 B]\n",
            "Get:3 http://archive.ubuntu.com/ubuntu jammy/universe amd64 cm-super all 0.3.4-17 [20.2 MB]\n",
            "Fetched 26.0 MB in 0s (70.0 MB/s)\n",
            "Selecting previously unselected package cm-super-minimal.\n",
            "(Reading database ... 157981 files and directories currently installed.)\n",
            "Preparing to unpack .../cm-super-minimal_0.3.4-17_all.deb ...\n",
            "Unpacking cm-super-minimal (0.3.4-17) ...\n",
            "Selecting previously unselected package pfb2t1c2pfb.\n",
            "Preparing to unpack .../pfb2t1c2pfb_0.3-11_amd64.deb ...\n",
            "Unpacking pfb2t1c2pfb (0.3-11) ...\n",
            "Selecting previously unselected package cm-super.\n",
            "Preparing to unpack .../cm-super_0.3.4-17_all.deb ...\n",
            "Unpacking cm-super (0.3.4-17) ...\n",
            "Setting up pfb2t1c2pfb (0.3-11) ...\n",
            "Setting up cm-super-minimal (0.3.4-17) ...\n",
            "Setting up cm-super (0.3.4-17) ...\n",
            "Creating fonts. This may take some time... done.\n",
            "Processing triggers for man-db (2.10.2-1) ...\n",
            "Processing triggers for tex-common (6.17) ...\n",
            "Running mktexlsr. This may take some time... done.\n",
            "Running updmap-sys. This may take some time... done.\n",
            "Running mktexlsr /var/lib/texmf ... done.\n",
            "Processing triggers for fontconfig (2.13.1-4.2ubuntu5) ...\n"
          ]
        }
      ]
    },
    {
      "cell_type": "markdown",
      "metadata": {
        "id": "4AFJa0gYGkeq"
      },
      "source": [
        "## Download do dataset"
      ]
    },
    {
      "cell_type": "code",
      "execution_count": null,
      "metadata": {
        "id": "I3Ogl8IDGTja",
        "colab": {
          "base_uri": "https://localhost:8080/"
        },
        "outputId": "c3744f7d-25de-4a33-d198-71e8a18d4f9c"
      },
      "outputs": [
        {
          "output_type": "stream",
          "name": "stdout",
          "text": [
            "Mounted at /content/drive\n"
          ]
        }
      ],
      "source": [
        "# Faz download do dataset\n",
        "drive.mount('/content/drive', force_remount=True) # Não esquecer de ajustas os PATHS"
      ]
    },
    {
      "cell_type": "markdown",
      "metadata": {
        "id": "dL7Tleeh-nTf"
      },
      "source": [
        "## Análise Exploratória e Pré-Processamento das Imagens\n"
      ]
    },
    {
      "cell_type": "markdown",
      "metadata": {
        "id": "bkcWhPEU84ij"
      },
      "source": [
        "Análise dos diretórios de Treinamento e Validação"
      ]
    },
    {
      "cell_type": "code",
      "execution_count": null,
      "metadata": {
        "id": "oh-sm7Rz59lC"
      },
      "outputs": [],
      "source": [
        "# Diretório para amostras\n",
        "base_dir = \"/content/drive/<PATH_TO_IMAGES>/imagens\"\n",
        "\n",
        "# Diretório para amostras de treino\n",
        "train_dir = os.path.join(base_dir, 'train')\n",
        "# Diretório para amostras de teste\n",
        "test_dir = os.path.join(base_dir, 'test')\n",
        "# Diretório para amostras de Validação\n",
        "val_dir = os.path.join(base_dir, 'val')"
      ]
    },
    {
      "cell_type": "markdown",
      "metadata": {
        "id": "l69Z7PXD8-P8"
      },
      "source": [
        "Exibe exemplo de cada classe"
      ]
    },
    {
      "cell_type": "code",
      "execution_count": null,
      "metadata": {
        "id": "6H_R9bLz638l",
        "colab": {
          "base_uri": "https://localhost:8080/",
          "height": 488
        },
        "outputId": "09a58c7b-8fba-4adc-f87d-13634a45916a"
      },
      "outputs": [
        {
          "output_type": "execute_result",
          "data": {
            "text/plain": [
              "(-0.5, 155.5, 155.5, -0.5)"
            ]
          },
          "metadata": {},
          "execution_count": 9
        },
        {
          "output_type": "display_data",
          "data": {
            "text/plain": [
              "<Figure size 2000x2000 with 2 Axes>"
            ],
            "image/png": "[encoded data removed]"
          },
          "metadata": {}
        }
      ],
      "source": [
        "# Cria subplote para exibir 1 imagem de cada classe\n",
        "fig,axis = plt.subplots(1,2,figsize=(20,20))\n",
        "fig.text(s=\"Exemplo de imagem de cada classe\",y=0.68,x=0.4,size=15)\n",
        "\n",
        "# Exibe 1 imagem com a classe 0\n",
        "img = f'{train_dir}/dmg/image_dmg_488_1.png'\n",
        "img = plt.imread(img)\n",
        "axis[0].imshow(img)\n",
        "axis[0].set_title('')\n",
        "axis[0].axis('off')\n",
        "\n",
        "# Exibe 1 imagem com a classe 1\n",
        "img = f'{train_dir}/int/image_int_10_2.png'\n",
        "img = plt.imread(img)\n",
        "axis[1].imshow(img)\n",
        "axis[1].set_title('')\n",
        "axis[1].axis('off')"
      ]
    },
    {
      "cell_type": "markdown",
      "metadata": {
        "id": "XeTcuA4f9Dhs"
      },
      "source": [
        "Quantidade de imagens de cada classe"
      ]
    },
    {
      "cell_type": "code",
      "execution_count": null,
      "metadata": {
        "id": "gJbvY3SUzmau",
        "colab": {
          "base_uri": "https://localhost:8080/"
        },
        "outputId": "d704d524-f364-474e-9f9a-b8fbb21a1327"
      },
      "outputs": [
        {
          "output_type": "stream",
          "name": "stdout",
          "text": [
            "Total de imagens sem dano: 4277 - Treino: 3208 (75.01%) Validação: 855 (19.99%) Teste: 214 (5.0%)\n",
            "Total de imagens com dano: 3423 - Treino: 2567 (74.99%) Validação: 685 (20.01%)  Teste: 171 (5.0%)\n"
          ]
        }
      ],
      "source": [
        "# Contabiliza quantidade de imagens de treino e validação - Sem dano\n",
        "imagensSemDanoTrain = len(glob(train_dir+\"/int\"+\"/*\"))\n",
        "imagensSemDanoVal = len(glob(val_dir+\"/int\"+\"/*\"))\n",
        "imagensSemDanoTest = len(glob(test_dir+\"/int\"+\"/*\"))\n",
        "imagensSemDano = imagensSemDanoTrain + imagensSemDanoVal + imagensSemDanoTest\n",
        "\n",
        "# Contabiliza quantidade de imagens de treino e validação - Com dano\n",
        "imagensComDanoTrain = len(glob(train_dir+\"/dmg\"+\"/*\"))\n",
        "imagensComDanoVal = len(glob(val_dir+\"/dmg\"+\"/*\"))\n",
        "imagensComDanoTest = len(glob(test_dir+\"/dmg\"+\"/*\"))\n",
        "imagensComDano = imagensComDanoTrain + imagensComDanoVal + imagensComDanoTest\n",
        "\n",
        "# Exibe totais e percentuais de imagens para teste e validação\n",
        "print(\"Total de imagens sem dano: {0} - Treino: {1} ({2}%) Validação: {3} ({4}%) Teste: {5} ({6}%)\".format(imagensSemDano, imagensSemDanoTrain, round((imagensSemDanoTrain/imagensSemDano)*100,2),\n",
        "                                                                                  imagensSemDanoVal, round((imagensSemDanoVal/imagensSemDano)*100,2),\n",
        "                                                                                  imagensSemDanoTest, round((imagensSemDanoTest/imagensSemDano)*100,2)))\n",
        "\n",
        "print(\"Total de imagens com dano: {0} - Treino: {1} ({2}%) Validação: {3} ({4}%)  Teste: {5} ({6}%)\".format(imagensComDano, imagensComDanoTrain, round((imagensComDanoTrain/imagensComDano)*100,2),\n",
        "                                                                                          imagensComDanoVal, round((imagensComDanoVal/imagensComDano)*100,2),\n",
        "                                                                                          imagensComDanoTest, round((imagensComDanoTest/imagensComDano)*100,2)))\n"
      ]
    },
    {
      "cell_type": "markdown",
      "metadata": {
        "id": "EyqsxrwS9l4u"
      },
      "source": [
        "Gráfico - Quantidade de imagens por classe"
      ]
    },
    {
      "cell_type": "code",
      "execution_count": null,
      "metadata": {
        "id": "RYiKp1pd2XPV"
      },
      "outputs": [],
      "source": [
        "# Tabula quantidade de imagens em dataframe\n",
        "df_imagens = pd.DataFrame(data={'classe':['Sem Dano','Com Dano'] , 'quantidade':[imagensSemDano, imagensComDano]})"
      ]
    },
    {
      "cell_type": "code",
      "execution_count": null,
      "metadata": {
        "id": "xVkcAV4l4Btp",
        "colab": {
          "base_uri": "https://localhost:8080/",
          "height": 451
        },
        "outputId": "c8d73db8-4a73-4925-f9c5-b3a95e182db2"
      },
      "outputs": [
        {
          "output_type": "display_data",
          "data": {
            "text/plain": [
              "<Figure size 640x480 with 1 Axes>"
            ],
            "image/png": "[encoded data removed]"
          },
          "metadata": {}
        }
      ],
      "source": [
        "# Plotagem da quantidade de imagens\n",
        "ax = sns.barplot(x='classe', y='quantidade', data=df_imagens)"
      ]
    },
    {
      "cell_type": "markdown",
      "metadata": {
        "id": "VdGYTQ-O9wVx"
      },
      "source": [
        "Prepara datasets\n"
      ]
    },
    {
      "cell_type": "code",
      "execution_count": null,
      "metadata": {
        "id": "kdimirMV8B1c",
        "colab": {
          "base_uri": "https://localhost:8080/"
        },
        "outputId": "57e013ae-2fc9-42f3-ab73-4b5134ed216f"
      },
      "outputs": [
        {
          "output_type": "stream",
          "name": "stdout",
          "text": [
            "Found 5775 images belonging to 2 classes.\n",
            "Found 1540 images belonging to 2 classes.\n",
            "Found 385 images belonging to 2 classes.\n"
          ]
        }
      ],
      "source": [
        "# Transforma escala de pixels para o intervalo 0 e 1\n",
        "image_gen = ImageDataGenerator(rescale = 1./255)\n",
        "test_data_gen = ImageDataGenerator(rescale = 1./255)\n",
        "\n",
        "img_height = 150\n",
        "img_width = 150\n",
        "batch_size = 64\n",
        "channels = 3\n",
        "\n",
        "# Gera lote de imagens para ser lidas a partir do diretório de Treino\n",
        "train_generator = image_gen.flow_from_directory(directory=train_dir,\n",
        "                                                target_size=(img_height, img_width),\n",
        "                                                batch_size=batch_size,\n",
        "                                                class_mode=\"categorical\",\n",
        "                                                shuffle=True,)\n",
        "\n",
        "# Gera lote de imagens para ser lidas a partir do diretório de Validação\n",
        "val_generator = test_data_gen.flow_from_directory(directory=val_dir,\n",
        "                                               target_size=(img_height, img_width),\n",
        "                                               batch_size=batch_size,\n",
        "                                               class_mode=\"categorical\",\n",
        "                                               shuffle=False,)\n",
        "\n",
        "# Gera lote de imagens para ser lidas a partir do diretório de Teste\n",
        "test_generator = test_data_gen.flow_from_directory(directory=test_dir,\n",
        "                                                  target_size=(img_height, img_width),\n",
        "                                                  batch_size=batch_size,\n",
        "                                                  class_mode=None,\n",
        "                                                  shuffle=False,)"
      ]
    },
    {
      "cell_type": "markdown",
      "metadata": {
        "id": "YWWenZbqeyIN"
      },
      "source": [
        "## Modelagem"
      ]
    },
    {
      "cell_type": "code",
      "execution_count": null,
      "metadata": {
        "id": "GXsyj_W_7F_1"
      },
      "outputs": [],
      "source": [
        "# Cria input layer para serem trabalhados nos modelos\n",
        "input_layer=layers.Input(shape=(img_height,img_width,channels))"
      ]
    },
    {
      "cell_type": "code",
      "execution_count": null,
      "metadata": {
        "id": "6o-hw0cskZJD"
      },
      "outputs": [],
      "source": [
        "# Monitora treinamento e para quando não houver mais redução do val_loss\n",
        "early = EarlyStopping(monitor=\"val_loss\",\n",
        "                      mode=\"min\",\n",
        "                      patience=3)\n",
        "learning_rate_reduction = ReduceLROnPlateau(monitor='val_loss', patience = 2, verbose=1,factor=0.3, min_lr=0.00001)\n",
        "callbacks_list = [ early, learning_rate_reduction]"
      ]
    },
    {
      "cell_type": "markdown",
      "metadata": {
        "id": "oejcnPsqLLG-"
      },
      "source": [
        "### Densenet"
      ]
    },
    {
      "cell_type": "code",
      "source": [
        "reduce_learning = ReduceLROnPlateau(\n",
        "    monitor='loss',\n",
        "    factor=0.2,\n",
        "    patience=2,\n",
        "    verbose=1,\n",
        "    mode='auto',\n",
        "    min_delta=0.0001,\n",
        "    cooldown=2,\n",
        "    min_lr=0)\n",
        "\n",
        "eary_stopping = EarlyStopping(\n",
        "    monitor='loss',\n",
        "    min_delta=0,\n",
        "    patience=7,\n",
        "    verbose=1,\n",
        "    mode='auto')\n",
        "callbacks_x = [reduce_learning, eary_stopping]"
      ],
      "metadata": {
        "id": "tG_9qnqnJlmA"
      },
      "execution_count": null,
      "outputs": []
    },
    {
      "cell_type": "code",
      "execution_count": null,
      "metadata": {
        "id": "dVPXTJZGLLG_",
        "colab": {
          "base_uri": "https://localhost:8080/"
        },
        "outputId": "fa4e9b79-5bf5-4d69-9f2b-1ed8a9e3d48b"
      },
      "outputs": [
        {
          "output_type": "stream",
          "name": "stdout",
          "text": [
            "Downloading data from https://storage.googleapis.com/tensorflow/keras-applications/densenet/densenet121_weights_tf_dim_ordering_tf_kernels_notop.h5\n",
            "29084464/29084464 [==============================] - 1s 0us/step\n"
          ]
        }
      ],
      "source": [
        "# Importa bibliotecas necessárias para o DenseNet121\n",
        "from tensorflow.keras.applications.densenet import DenseNet121\n",
        "from tensorflow.keras.applications.densenet import preprocess_input, decode_predictions\n",
        "\n",
        "# Define hiperparâmetros do modelo\n",
        "base_model = DenseNet121(\n",
        "    include_top=False,\n",
        "    weights=\"imagenet\")\n",
        "\n",
        "# Cria camada de saída para suportar a classificação de 02 classes com função de ativação softmax\n",
        "global_avg_pooling = layers.GlobalAveragePooling2D()(base_model.output)\n",
        "dropout = layers.Dropout(rate=0.5)(global_avg_pooling)\n",
        "output = layers.Dense(2, activation='softmax')(dropout)\n",
        "modelDenseNet = models.Model(inputs=base_model.input, outputs=output)"
      ]
    },
    {
      "cell_type": "code",
      "execution_count": null,
      "metadata": {
        "id": "BrVZ8f3hTqJ0"
      },
      "outputs": [],
      "source": [
        "# Compila modelo\n",
        "modelDenseNet.compile(loss='categorical_crossentropy', optimizer='adam', metrics=['accuracy'])"
      ]
    },
    {
      "cell_type": "code",
      "execution_count": null,
      "metadata": {
        "id": "yBK8W-JQTqJ0"
      },
      "outputs": [],
      "source": [
        "# Gera Resumo do modelo\n",
        "modelDenseNet.summary()"
      ]
    },
    {
      "cell_type": "code",
      "execution_count": null,
      "metadata": {
        "id": "wif3teL7TqJ1",
        "colab": {
          "base_uri": "https://localhost:8080/"
        },
        "outputId": "c9bb1c64-1055-42b7-e86b-e12da11bfb17"
      },
      "outputs": [
        {
          "output_type": "stream",
          "name": "stdout",
          "text": [
            "Epoch 1/50\n",
            "91/91 [==============================] - 2546s 28s/step - loss: 0.6408 - accuracy: 0.7008 - val_loss: 0.9915 - val_accuracy: 0.6123 - lr: 0.0010\n",
            "Epoch 2/50\n",
            "91/91 [==============================] - 24s 266ms/step - loss: 0.3767 - accuracy: 0.8163 - val_loss: 0.5573 - val_accuracy: 0.7981 - lr: 0.0010\n",
            "Epoch 3/50\n",
            "91/91 [==============================] - 24s 260ms/step - loss: 0.3135 - accuracy: 0.8630 - val_loss: 0.3929 - val_accuracy: 0.8253 - lr: 0.0010\n",
            "Epoch 4/50\n",
            "91/91 [==============================] - 24s 261ms/step - loss: 0.2278 - accuracy: 0.9027 - val_loss: 0.3135 - val_accuracy: 0.8461 - lr: 0.0010\n",
            "Epoch 5/50\n",
            "91/91 [==============================] - 24s 260ms/step - loss: 0.2098 - accuracy: 0.9119 - val_loss: 0.2604 - val_accuracy: 0.8877 - lr: 0.0010\n",
            "Epoch 6/50\n",
            "91/91 [==============================] - 24s 260ms/step - loss: 0.1822 - accuracy: 0.9273 - val_loss: 0.3089 - val_accuracy: 0.8526 - lr: 0.0010\n",
            "Epoch 7/50\n",
            "91/91 [==============================] - 24s 264ms/step - loss: 0.1950 - accuracy: 0.9181 - val_loss: 0.2444 - val_accuracy: 0.9039 - lr: 0.0010\n",
            "Epoch 8/50\n",
            "91/91 [==============================] - 23s 256ms/step - loss: 0.1438 - accuracy: 0.9416 - val_loss: 0.2124 - val_accuracy: 0.9123 - lr: 0.0010\n",
            "Epoch 9/50\n",
            "91/91 [==============================] - 24s 262ms/step - loss: 0.1240 - accuracy: 0.9496 - val_loss: 0.2643 - val_accuracy: 0.8935 - lr: 0.0010\n",
            "Epoch 10/50\n",
            "91/91 [==============================] - 25s 270ms/step - loss: 0.1101 - accuracy: 0.9583 - val_loss: 0.2212 - val_accuracy: 0.9156 - lr: 0.0010\n",
            "Epoch 11/50\n",
            "91/91 [==============================] - 24s 263ms/step - loss: 0.0944 - accuracy: 0.9638 - val_loss: 0.2938 - val_accuracy: 0.9032 - lr: 0.0010\n",
            "Epoch 12/50\n",
            "91/91 [==============================] - 24s 265ms/step - loss: 0.1584 - accuracy: 0.9420 - val_loss: 0.6692 - val_accuracy: 0.8214 - lr: 0.0010\n",
            "Epoch 13/50\n",
            "91/91 [==============================] - ETA: 0s - loss: 0.1218 - accuracy: 0.9553\n",
            "Epoch 13: ReduceLROnPlateau reducing learning rate to 0.00020000000949949026.\n",
            "91/91 [==============================] - 24s 264ms/step - loss: 0.1218 - accuracy: 0.9553 - val_loss: 0.1902 - val_accuracy: 0.9390 - lr: 0.0010\n",
            "Epoch 14/50\n",
            "91/91 [==============================] - 24s 259ms/step - loss: 0.0485 - accuracy: 0.9830 - val_loss: 0.1472 - val_accuracy: 0.9403 - lr: 2.0000e-04\n",
            "Epoch 15/50\n",
            "91/91 [==============================] - 24s 261ms/step - loss: 0.0239 - accuracy: 0.9922 - val_loss: 0.1370 - val_accuracy: 0.9506 - lr: 2.0000e-04\n",
            "Epoch 16/50\n",
            "91/91 [==============================] - 24s 259ms/step - loss: 0.0119 - accuracy: 0.9965 - val_loss: 0.1455 - val_accuracy: 0.9513 - lr: 2.0000e-04\n",
            "Epoch 17/50\n",
            "91/91 [==============================] - 24s 265ms/step - loss: 0.0083 - accuracy: 0.9977 - val_loss: 0.1718 - val_accuracy: 0.9474 - lr: 2.0000e-04\n",
            "Epoch 18/50\n",
            "91/91 [==============================] - 23s 253ms/step - loss: 0.0047 - accuracy: 0.9990 - val_loss: 0.1795 - val_accuracy: 0.9506 - lr: 2.0000e-04\n",
            "Epoch 19/50\n",
            "91/91 [==============================] - 24s 263ms/step - loss: 0.0107 - accuracy: 0.9972 - val_loss: 0.2230 - val_accuracy: 0.9364 - lr: 2.0000e-04\n",
            "Epoch 20/50\n",
            "91/91 [==============================] - ETA: 0s - loss: 0.0191 - accuracy: 0.9941\n",
            "Epoch 20: ReduceLROnPlateau reducing learning rate to 4.0000001899898055e-05.\n",
            "91/91 [==============================] - 23s 252ms/step - loss: 0.0191 - accuracy: 0.9941 - val_loss: 0.2379 - val_accuracy: 0.9396 - lr: 2.0000e-04\n",
            "Epoch 21/50\n",
            "91/91 [==============================] - 23s 255ms/step - loss: 0.0115 - accuracy: 0.9964 - val_loss: 0.1819 - val_accuracy: 0.9494 - lr: 4.0000e-05\n",
            "Epoch 22/50\n",
            "91/91 [==============================] - 24s 260ms/step - loss: 0.0048 - accuracy: 0.9988 - val_loss: 0.1744 - val_accuracy: 0.9513 - lr: 4.0000e-05\n",
            "Epoch 23/50\n",
            "91/91 [==============================] - 24s 262ms/step - loss: 0.0034 - accuracy: 0.9997 - val_loss: 0.1778 - val_accuracy: 0.9519 - lr: 4.0000e-05\n",
            "Epoch 24/50\n",
            "91/91 [==============================] - 24s 259ms/step - loss: 0.0038 - accuracy: 0.9995 - val_loss: 0.1820 - val_accuracy: 0.9506 - lr: 4.0000e-05\n",
            "Epoch 25/50\n",
            "91/91 [==============================] - 23s 257ms/step - loss: 0.0027 - accuracy: 0.9993 - val_loss: 0.1792 - val_accuracy: 0.9513 - lr: 4.0000e-05\n",
            "Epoch 26/50\n",
            "91/91 [==============================] - 24s 266ms/step - loss: 0.0017 - accuracy: 1.0000 - val_loss: 0.1811 - val_accuracy: 0.9513 - lr: 4.0000e-05\n",
            "Epoch 27/50\n",
            "91/91 [==============================] - 24s 260ms/step - loss: 0.0016 - accuracy: 0.9998 - val_loss: 0.1856 - val_accuracy: 0.9500 - lr: 4.0000e-05\n",
            "Epoch 28/50\n",
            "91/91 [==============================] - 23s 251ms/step - loss: 0.0011 - accuracy: 1.0000 - val_loss: 0.1910 - val_accuracy: 0.9494 - lr: 4.0000e-05\n",
            "Epoch 29/50\n",
            "91/91 [==============================] - 24s 263ms/step - loss: 0.0016 - accuracy: 0.9997 - val_loss: 0.1975 - val_accuracy: 0.9487 - lr: 4.0000e-05\n",
            "Epoch 30/50\n",
            "91/91 [==============================] - ETA: 0s - loss: 0.0016 - accuracy: 0.9997\n",
            "Epoch 30: ReduceLROnPlateau reducing learning rate to 8.000000525498762e-06.\n",
            "91/91 [==============================] - 24s 262ms/step - loss: 0.0016 - accuracy: 0.9997 - val_loss: 0.1980 - val_accuracy: 0.9500 - lr: 4.0000e-05\n",
            "Epoch 31/50\n",
            "91/91 [==============================] - 24s 261ms/step - loss: 0.0011 - accuracy: 0.9997 - val_loss: 0.1972 - val_accuracy: 0.9494 - lr: 8.0000e-06\n",
            "Epoch 32/50\n",
            "91/91 [==============================] - 24s 264ms/step - loss: 0.0012 - accuracy: 0.9998 - val_loss: 0.1983 - val_accuracy: 0.9519 - lr: 8.0000e-06\n",
            "Epoch 33/50\n",
            "91/91 [==============================] - 23s 254ms/step - loss: 8.9618e-04 - accuracy: 1.0000 - val_loss: 0.1986 - val_accuracy: 0.9526 - lr: 8.0000e-06\n",
            "Epoch 34/50\n",
            "91/91 [==============================] - 24s 261ms/step - loss: 0.0016 - accuracy: 0.9995 - val_loss: 0.2033 - val_accuracy: 0.9519 - lr: 8.0000e-06\n",
            "Epoch 35/50\n",
            "91/91 [==============================] - ETA: 0s - loss: 8.7017e-04 - accuracy: 1.0000\n",
            "Epoch 35: ReduceLROnPlateau reducing learning rate to 1.6000001778593287e-06.\n",
            "91/91 [==============================] - 23s 251ms/step - loss: 8.7017e-04 - accuracy: 1.0000 - val_loss: 0.2037 - val_accuracy: 0.9519 - lr: 8.0000e-06\n",
            "Epoch 36/50\n",
            "91/91 [==============================] - 23s 253ms/step - loss: 9.9649e-04 - accuracy: 1.0000 - val_loss: 0.2034 - val_accuracy: 0.9513 - lr: 1.6000e-06\n",
            "Epoch 37/50\n",
            "91/91 [==============================] - 24s 260ms/step - loss: 0.0016 - accuracy: 0.9998 - val_loss: 0.2041 - val_accuracy: 0.9513 - lr: 1.6000e-06\n",
            "Epoch 38/50\n",
            "91/91 [==============================] - ETA: 0s - loss: 9.5728e-04 - accuracy: 1.0000\n",
            "Epoch 38: ReduceLROnPlateau reducing learning rate to 3.200000264769187e-07.\n",
            "91/91 [==============================] - 23s 253ms/step - loss: 9.5728e-04 - accuracy: 1.0000 - val_loss: 0.2049 - val_accuracy: 0.9506 - lr: 1.6000e-06\n",
            "Epoch 39/50\n",
            "91/91 [==============================] - 24s 260ms/step - loss: 9.5238e-04 - accuracy: 1.0000 - val_loss: 0.2044 - val_accuracy: 0.9500 - lr: 3.2000e-07\n",
            "Epoch 40/50\n",
            "91/91 [==============================] - 23s 255ms/step - loss: 6.5917e-04 - accuracy: 1.0000 - val_loss: 0.2034 - val_accuracy: 0.9513 - lr: 3.2000e-07\n",
            "Epoch 41/50\n",
            "91/91 [==============================] - 23s 257ms/step - loss: 9.7303e-04 - accuracy: 0.9997 - val_loss: 0.2043 - val_accuracy: 0.9506 - lr: 3.2000e-07\n",
            "Epoch 42/50\n",
            "91/91 [==============================] - ETA: 0s - loss: 7.5222e-04 - accuracy: 1.0000\n",
            "Epoch 42: ReduceLROnPlateau reducing learning rate to 6.400000529538374e-08.\n",
            "91/91 [==============================] - 23s 252ms/step - loss: 7.5222e-04 - accuracy: 1.0000 - val_loss: 0.2039 - val_accuracy: 0.9500 - lr: 3.2000e-07\n",
            "Epoch 43/50\n",
            "91/91 [==============================] - 24s 257ms/step - loss: 9.2347e-04 - accuracy: 1.0000 - val_loss: 0.2047 - val_accuracy: 0.9506 - lr: 6.4000e-08\n",
            "Epoch 44/50\n",
            "91/91 [==============================] - 23s 257ms/step - loss: 0.0013 - accuracy: 0.9993 - val_loss: 0.2045 - val_accuracy: 0.9513 - lr: 6.4000e-08\n",
            "Epoch 45/50\n",
            "91/91 [==============================] - ETA: 0s - loss: 6.0532e-04 - accuracy: 1.0000\n",
            "Epoch 45: ReduceLROnPlateau reducing learning rate to 1.2800001059076749e-08.\n",
            "91/91 [==============================] - 23s 255ms/step - loss: 6.0532e-04 - accuracy: 1.0000 - val_loss: 0.2044 - val_accuracy: 0.9513 - lr: 6.4000e-08\n",
            "Epoch 46/50\n",
            "91/91 [==============================] - 23s 256ms/step - loss: 0.0011 - accuracy: 0.9998 - val_loss: 0.2042 - val_accuracy: 0.9513 - lr: 1.2800e-08\n",
            "Epoch 47/50\n",
            "91/91 [==============================] - 24s 266ms/step - loss: 7.9523e-04 - accuracy: 1.0000 - val_loss: 0.2040 - val_accuracy: 0.9500 - lr: 1.2800e-08\n",
            "Epoch 48/50\n",
            "91/91 [==============================] - ETA: 0s - loss: 0.0020 - accuracy: 0.9997\n",
            "Epoch 48: ReduceLROnPlateau reducing learning rate to 2.5600002118153498e-09.\n",
            "91/91 [==============================] - 23s 255ms/step - loss: 0.0020 - accuracy: 0.9997 - val_loss: 0.2044 - val_accuracy: 0.9513 - lr: 1.2800e-08\n",
            "Epoch 49/50\n",
            "91/91 [==============================] - 23s 250ms/step - loss: 0.0010 - accuracy: 1.0000 - val_loss: 0.2037 - val_accuracy: 0.9513 - lr: 2.5600e-09\n",
            "Epoch 50/50\n",
            "91/91 [==============================] - 23s 255ms/step - loss: 8.8695e-04 - accuracy: 1.0000 - val_loss: 0.2040 - val_accuracy: 0.9506 - lr: 2.5600e-09\n"
          ]
        }
      ],
      "source": [
        "# Realiza o treinamento do modelo\n",
        "historyDenseNet = modelDenseNet.fit(train_generator, epochs=50, validation_data=val_generator, verbose=1, callbacks=callbacks_x)"
      ]
    },
    {
      "cell_type": "markdown",
      "metadata": {
        "id": "lx6UrSXyrtDy"
      },
      "source": [
        "Métricas"
      ]
    },
    {
      "cell_type": "code",
      "source": [
        "# Gráfico de accuracy x val_accuracy\n",
        "plt.plot(historyDenseNet.history['accuracy'], label='accuracy')\n",
        "plt.plot(historyDenseNet.history['val_accuracy'], label = 'val_accuracy')\n",
        "plt.title('Train: accuracy x val_accuracy')\n",
        "plt.xlabel('Epochs')\n",
        "plt.ylabel('Accuracy')\n",
        "plt.legend(['train','val'])"
      ],
      "metadata": {
        "id": "rPO9t5avognQ",
        "colab": {
          "base_uri": "https://localhost:8080/",
          "height": 490
        },
        "outputId": "435d3388-1b31-49e5-9302-cc9ea403a80e"
      },
      "execution_count": null,
      "outputs": [
        {
          "output_type": "execute_result",
          "data": {
            "text/plain": [
              "<matplotlib.legend.Legend at 0x79ca247a31f0>"
            ]
          },
          "metadata": {},
          "execution_count": 16
        },
        {
          "output_type": "display_data",
          "data": {
            "text/plain": [
              "<Figure size 640x480 with 1 Axes>"
            ],
            "image/png": "[encoded data removed]"
          },
          "metadata": {}
        }
      ]
    },
    {
      "cell_type": "code",
      "source": [
        "# Gráfico de loss x val_loss\n",
        "plt.plot(historyDenseNet.history['loss'], label='loss')\n",
        "plt.plot(historyDenseNet.history['val_loss'], label = 'val_loss')\n",
        "plt.title('Train: loss x val_loss')\n",
        "plt.xlabel('Epoches')\n",
        "plt.ylabel('Loss')\n",
        "plt.legend(loc='lower right')\n",
        "plt.legend(['train','val'])"
      ],
      "metadata": {
        "id": "7I5Q3F-6o4ew",
        "colab": {
          "base_uri": "https://localhost:8080/",
          "height": 490
        },
        "outputId": "3a0e3f59-979b-4ae0-b66e-daba245f069f"
      },
      "execution_count": null,
      "outputs": [
        {
          "output_type": "execute_result",
          "data": {
            "text/plain": [
              "<matplotlib.legend.Legend at 0x79ca2461c3a0>"
            ]
          },
          "metadata": {},
          "execution_count": 17
        },
        {
          "output_type": "display_data",
          "data": {
            "text/plain": [
              "<Figure size 640x480 with 1 Axes>"
            ],
            "image/png": "[encoded data removed]"
          },
          "metadata": {}
        }
      ]
    },
    {
      "cell_type": "code",
      "execution_count": null,
      "metadata": {
        "id": "ZC9pDHh_rbQ5",
        "colab": {
          "base_uri": "https://localhost:8080/",
          "height": 448
        },
        "outputId": "8c828e5a-0e54-41fa-8d1d-4bca022fbd39"
      },
      "outputs": [
        {
          "output_type": "execute_result",
          "data": {
            "text/plain": [
              "<Axes: >"
            ]
          },
          "metadata": {},
          "execution_count": 18
        },
        {
          "output_type": "display_data",
          "data": {
            "text/plain": [
              "<Figure size 640x480 with 1 Axes>"
            ],
            "image/png": "[encoded data removed]"
          },
          "metadata": {}
        }
      ],
      "source": [
        "# Gráfico de loss x val_loss e accurancy x val_accurancy\n",
        "pd.DataFrame(modelDenseNet.history.history).plot()"
      ]
    },
    {
      "cell_type": "code",
      "execution_count": null,
      "metadata": {
        "id": "IyZbS-NOrbQ5",
        "colab": {
          "base_uri": "https://localhost:8080/"
        },
        "outputId": "a66b7b1d-1e33-427e-9614-e4beadae2e89"
      },
      "outputs": [
        {
          "output_type": "stream",
          "name": "stdout",
          "text": [
            "25/25 [==============================] - 249s 10s/step\n"
          ]
        }
      ],
      "source": [
        "# Realiza predição do dataset de Validação\n",
        "val_generator.reset()\n",
        "pred=modelDenseNet.predict(val_generator, verbose=1)\n",
        "predicted_class_indices=np.argmax(pred,axis=1)"
      ]
    },
    {
      "cell_type": "code",
      "execution_count": null,
      "metadata": {
        "id": "x88D5bL5rbQ6",
        "colab": {
          "base_uri": "https://localhost:8080/"
        },
        "outputId": "34f18e29-3220-4367-e2f8-4d081bb7b619"
      },
      "outputs": [
        {
          "output_type": "stream",
          "name": "stdout",
          "text": [
            "A acurácia é de 95.06%\n"
          ]
        }
      ],
      "source": [
        "# Calcula a acurácia do dataset de Validação\n",
        "acuracia = accuracy_score(val_generator.classes, predicted_class_indices)\n",
        "print(\"A acurácia é de {0}%\".format(round(acuracia * 100,2)))"
      ]
    },
    {
      "cell_type": "code",
      "execution_count": null,
      "metadata": {
        "id": "WYg-ILKQrbQ6",
        "colab": {
          "base_uri": "https://localhost:8080/",
          "height": 431
        },
        "outputId": "1b899329-4d37-413e-db0c-e78729397ee8"
      },
      "outputs": [
        {
          "output_type": "display_data",
          "data": {
            "text/plain": [
              "<Figure size 640x480 with 2 Axes>"
            ],
            "image/png": "[encoded data removed]"
          },
          "metadata": {}
        }
      ],
      "source": [
        "# Platagem da matrix de confusão do dataset de Validação\n",
        "cm = pd.DataFrame(data=confusion_matrix(val_generator.classes, predicted_class_indices))\n",
        "sns.heatmap(cm,annot=True,fmt=\"d\", xticklabels=['Com dano', 'Sem dano'], yticklabels=['Com dano', 'Sem dano'])\n",
        "plt.savefig(\"val_matrix.pdf\", format='pdf')"
      ]
    },
    {
      "cell_type": "code",
      "execution_count": null,
      "metadata": {
        "id": "NcIz9AFUrbQ6",
        "colab": {
          "base_uri": "https://localhost:8080/"
        },
        "outputId": "cb95c79a-f5cc-4042-f9dc-6f42095a2bda"
      },
      "outputs": [
        {
          "output_type": "stream",
          "name": "stdout",
          "text": [
            "              precision    recall  f1-score   support\n",
            "\n",
            "    Com dano     0.9579    0.9299    0.9437       685\n",
            "    Sem dano     0.9451    0.9673    0.9561       855\n",
            "\n",
            "    accuracy                         0.9506      1540\n",
            "   macro avg     0.9515    0.9486    0.9499      1540\n",
            "weighted avg     0.9508    0.9506    0.9506      1540\n",
            "\n"
          ]
        }
      ],
      "source": [
        "# Relatório de classificação do modelo para o dataset de Validação\n",
        "print(classification_report(val_generator.classes, predicted_class_indices, digits=4, target_names=['Com dano', 'Sem dano']))"
      ]
    },
    {
      "cell_type": "markdown",
      "source": [
        "Testes"
      ],
      "metadata": {
        "id": "7Enpnvm56-rT"
      }
    },
    {
      "cell_type": "code",
      "execution_count": null,
      "metadata": {
        "id": "bMBuZ1IK667Y",
        "colab": {
          "base_uri": "https://localhost:8080/"
        },
        "outputId": "398eeee4-6eba-45c2-89d5-0b3d010f540d"
      },
      "outputs": [
        {
          "output_type": "stream",
          "name": "stdout",
          "text": [
            "7/7 [==============================] - 201s 33s/step\n"
          ]
        }
      ],
      "source": [
        "# Realiza predição do dataset de Testes\n",
        "test_generator.reset()\n",
        "predtest=modelDenseNet.predict(test_generator, verbose=1)\n",
        "predictedTest_class_indices=np.argmax(predtest,axis=1)"
      ]
    },
    {
      "cell_type": "code",
      "execution_count": null,
      "metadata": {
        "id": "ANsPonW3667Z",
        "colab": {
          "base_uri": "https://localhost:8080/"
        },
        "outputId": "fd8f9a5b-e001-4e6d-967a-faa438a594e8"
      },
      "outputs": [
        {
          "output_type": "stream",
          "name": "stdout",
          "text": [
            "A acurácia é de 95.06%\n"
          ]
        }
      ],
      "source": [
        "# Calcula a acurácia do dataset de Testes\n",
        "acuraciaTest = accuracy_score(test_generator.classes, predictedTest_class_indices)\n",
        "print(\"A acurácia é de {0}%\".format(round(acuraciaTest * 100,2)))"
      ]
    },
    {
      "cell_type": "code",
      "execution_count": null,
      "metadata": {
        "id": "d1EpjLpN667Z",
        "colab": {
          "base_uri": "https://localhost:8080/",
          "height": 431
        },
        "outputId": "50a29abd-7ed1-49d7-808e-97eac6660e85"
      },
      "outputs": [
        {
          "output_type": "display_data",
          "data": {
            "text/plain": [
              "<Figure size 640x480 with 2 Axes>"
            ],
            "image/png": "[encoded data removed]"
          },
          "metadata": {}
        }
      ],
      "source": [
        "# Platagem da matrix de confusão do dataset de Testes\n",
        "cmTest = pd.DataFrame(data=confusion_matrix(test_generator.classes, predictedTest_class_indices))\n",
        "sns.heatmap(cmTest,annot=True,fmt=\"d\", xticklabels=['Com dano', 'Sem dano'], yticklabels=['Com dano', 'Sem dano'])\n",
        "plt.savefig(\"test_matrix.pdf\", format='pdf')"
      ]
    },
    {
      "cell_type": "code",
      "execution_count": null,
      "metadata": {
        "id": "FPlhIfc1667Z",
        "colab": {
          "base_uri": "https://localhost:8080/"
        },
        "outputId": "29ab7ef9-539e-4a76-fe30-01ee25b3bd45"
      },
      "outputs": [
        {
          "output_type": "stream",
          "name": "stdout",
          "text": [
            "              precision    recall  f1-score   support\n",
            "\n",
            "    Com dano     0.9578    0.9298    0.9436       171\n",
            "    Sem Dano     0.9452    0.9673    0.9561       214\n",
            "\n",
            "    accuracy                         0.9506       385\n",
            "   macro avg     0.9515    0.9486    0.9499       385\n",
            "weighted avg     0.9508    0.9506    0.9506       385\n",
            "\n"
          ]
        }
      ],
      "source": [
        "# Relatório de classificação do modelo para o dataset de Testes\n",
        "print(classification_report(test_generator.classes, predictedTest_class_indices, digits=4, target_names=['Com dano', 'Sem Dano']))"
      ]
    },
    {
      "cell_type": "code",
      "source": [
        "# Mostra classificação - percentual de classificação - rótulo verdadeiro da imagem\n",
        "classes = {0: 'Com dano', 1:'Sem dano'}\n",
        "imagens = np.concatenate([test_generator[i] for i in range(test_generator.__len__())])\n",
        "i = 25\n",
        "previsto = np.argmax(predtest[i])\n",
        "percentual = np.max(predtest[i])\n",
        "real = test_generator.classes[i]\n",
        "imagemReal = imagens[i]"
      ],
      "metadata": {
        "id": "-L9due1J88Bc"
      },
      "execution_count": null,
      "outputs": []
    },
    {
      "cell_type": "code",
      "source": [
        "# Plota predição de teste\n",
        "plt.title('Previsto: ' + classes[previsto] + ' com ' + '{:.2%}'.format(round(percentual,2)) + '. \\nReal: ' + classes[real])\n",
        "plt.imshow(np.squeeze(imagemReal))\n",
        "plt.axis('off')\n",
        "plt.show()"
      ],
      "metadata": {
        "id": "lljpszle7sSW",
        "colab": {
          "base_uri": "https://localhost:8080/",
          "height": 449
        },
        "outputId": "4827f11a-623a-4121-b9f2-157f24caf2dd"
      },
      "execution_count": null,
      "outputs": [
        {
          "output_type": "display_data",
          "data": {
            "text/plain": [
              "<Figure size 640x480 with 1 Axes>"
            ],
            "image/png": "[encoded data removed]"
          },
          "metadata": {}
        }
      ]
    },
    {
      "cell_type": "code",
      "source": [
        "# Plota predições de teste\n",
        "classes = {0: 'Sem dano', 1:'Com dano'}\n",
        "imagens = np.concatenate([test_generator[i] for i in range(test_generator.__len__())])\n",
        "plt.figure(figsize=(20, 20))\n",
        "start = 0\n",
        "\n",
        "for i in range(0, 16):\n",
        "\n",
        "    plt.subplot(4, 4, i+1)\n",
        "\n",
        "    # Mostra classificação - percentual de classificação - rótulo verdadeiro da imagem\n",
        "    previsto = np.argmax(predtest[i])\n",
        "    percentual = np.max(predtest[i])\n",
        "    real = test_generator.classes[i]\n",
        "    imagemReal = imagens[i]\n",
        "    plt.title('Classificado como ' + classes[previsto] + ' com ' + '{:.2%}'.format(round(percentual,2)) + '. \\nRótulo verdadeiro: ' + classes[real])\n",
        "    plt.axis('off')\n",
        "    plt.imshow(np.squeeze(imagemReal))\n",
        "\n",
        "plt.tight_layout()\n",
        "plt.show()"
      ],
      "metadata": {
        "id": "2Xel2zBBWG1o"
      },
      "execution_count": null,
      "outputs": []
    },
    {
      "cell_type": "markdown",
      "source": [
        "Salva modelo"
      ],
      "metadata": {
        "id": "8Z6cIeoaFh8r"
      }
    },
    {
      "cell_type": "code",
      "source": [
        "modelDenseNet.save(\"/content/drive/<PATH_TO_MODELS>/modelos/densenet.h5\")"
      ],
      "metadata": {
        "id": "dLexynLUy_sr"
      },
      "execution_count": null,
      "outputs": []
    },
    {
      "cell_type": "markdown",
      "source": [
        "### ResNet50"
      ],
      "metadata": {
        "id": "N9dSqM1-e-H2"
      }
    },
    {
      "cell_type": "code",
      "source": [
        "# Importa bibliotecas necessárias para o ResNet50\n",
        "from tensorflow.keras.applications.resnet50 import ResNet50\n",
        "from tensorflow.keras.applications.resnet50 import preprocess_input, decode_predictions\n",
        "\n",
        "# Define hiperparâmetros do modelo\n",
        "modelResnet = ResNet50(input_tensor=input_layer,\n",
        "    include_top=False,\n",
        "    weights=\"imagenet\")\n",
        "\n",
        "# Cria cadama de saída para suportar a classificação de 04 com função de ativação softmax\n",
        "last_layer=modelResnet.output\n",
        "flatten=layers.Flatten()(last_layer)\n",
        "output_layer=layers.Dense(2,activation='softmax')(flatten)\n",
        "modelResnet=models.Model(inputs=input_layer,outputs=output_layer)"
      ],
      "metadata": {
        "id": "GwETzJgwf8XN"
      },
      "execution_count": null,
      "outputs": []
    },
    {
      "cell_type": "code",
      "source": [
        "# Compila modelo\n",
        "modelResnet.compile(loss='categorical_crossentropy', optimizer='adam',metrics=['accuracy'])"
      ],
      "metadata": {
        "id": "yN0eMTsKhx50"
      },
      "execution_count": null,
      "outputs": []
    },
    {
      "cell_type": "code",
      "source": [
        "# Gera Resumo do modelo\n",
        "modelResnet.summary()"
      ],
      "metadata": {
        "id": "KgPzzo75Nr2w"
      },
      "execution_count": null,
      "outputs": []
    },
    {
      "cell_type": "code",
      "source": [
        "# Realiza o treinamento do modelo\n",
        "historyResnet = modelResnet.fit(train_generator, epochs=50, validation_data=val_generator, verbose=1, callbacks=callbacks_x)"
      ],
      "metadata": {
        "id": "ojDrSZT1hdW0",
        "colab": {
          "base_uri": "https://localhost:8080/"
        },
        "outputId": "5a6c74bb-76aa-40fe-b206-fc16c3c4565a"
      },
      "execution_count": null,
      "outputs": [
        {
          "output_type": "stream",
          "name": "stdout",
          "text": [
            "Epoch 1/50\n",
            "91/91 [==============================] - 52s 264ms/step - loss: 1.7662 - accuracy: 0.7022 - val_loss: 0.8285 - val_accuracy: 0.5552 - lr: 0.0010\n",
            "Epoch 2/50\n",
            "91/91 [==============================] - 23s 257ms/step - loss: 0.7235 - accuracy: 0.7765 - val_loss: 0.6835 - val_accuracy: 0.5552 - lr: 0.0010\n",
            "Epoch 3/50\n",
            "91/91 [==============================] - 23s 255ms/step - loss: 0.5030 - accuracy: 0.8087 - val_loss: 3.1372 - val_accuracy: 0.5552 - lr: 0.0010\n",
            "Epoch 4/50\n",
            "91/91 [==============================] - 23s 251ms/step - loss: 0.3446 - accuracy: 0.8575 - val_loss: 0.6257 - val_accuracy: 0.6565 - lr: 0.0010\n",
            "Epoch 5/50\n",
            "91/91 [==============================] - 23s 257ms/step - loss: 0.2457 - accuracy: 0.8977 - val_loss: 0.6509 - val_accuracy: 0.6052 - lr: 0.0010\n",
            "Epoch 6/50\n",
            "91/91 [==============================] - 23s 257ms/step - loss: 0.2091 - accuracy: 0.9103 - val_loss: 0.8178 - val_accuracy: 0.6000 - lr: 0.0010\n",
            "Epoch 7/50\n",
            "91/91 [==============================] - 22s 246ms/step - loss: 0.1551 - accuracy: 0.9340 - val_loss: 0.6135 - val_accuracy: 0.6766 - lr: 0.0010\n",
            "Epoch 8/50\n",
            "91/91 [==============================] - 23s 254ms/step - loss: 0.1364 - accuracy: 0.9446 - val_loss: 0.5547 - val_accuracy: 0.7591 - lr: 0.0010\n",
            "Epoch 9/50\n",
            "91/91 [==============================] - 23s 251ms/step - loss: 0.1144 - accuracy: 0.9512 - val_loss: 0.5672 - val_accuracy: 0.7864 - lr: 0.0010\n",
            "Epoch 10/50\n",
            "91/91 [==============================] - 23s 251ms/step - loss: 0.1070 - accuracy: 0.9576 - val_loss: 0.4273 - val_accuracy: 0.8435 - lr: 0.0010\n",
            "Epoch 11/50\n",
            "91/91 [==============================] - 23s 248ms/step - loss: 0.1180 - accuracy: 0.9539 - val_loss: 0.3655 - val_accuracy: 0.8714 - lr: 0.0010\n",
            "Epoch 12/50\n",
            "91/91 [==============================] - 23s 256ms/step - loss: 0.0950 - accuracy: 0.9681 - val_loss: 1.7841 - val_accuracy: 0.7500 - lr: 0.0010\n",
            "Epoch 13/50\n",
            "91/91 [==============================] - 24s 261ms/step - loss: 0.3607 - accuracy: 0.8845 - val_loss: 12.9860 - val_accuracy: 0.8468 - lr: 0.0010\n",
            "Epoch 14/50\n",
            "91/91 [==============================] - ETA: 0s - loss: 0.3466 - accuracy: 0.9030\n",
            "Epoch 14: ReduceLROnPlateau reducing learning rate to 0.00020000000949949026.\n",
            "91/91 [==============================] - 23s 251ms/step - loss: 0.3466 - accuracy: 0.9030 - val_loss: 603.8403 - val_accuracy: 0.7013 - lr: 0.0010\n",
            "Epoch 15/50\n",
            "91/91 [==============================] - 23s 257ms/step - loss: 0.2485 - accuracy: 0.9094 - val_loss: 12.2576 - val_accuracy: 0.8494 - lr: 2.0000e-04\n",
            "Epoch 16/50\n",
            "91/91 [==============================] - 24s 258ms/step - loss: 0.1504 - accuracy: 0.9403 - val_loss: 0.3236 - val_accuracy: 0.9253 - lr: 2.0000e-04\n",
            "Epoch 17/50\n",
            "91/91 [==============================] - ETA: 0s - loss: 0.1252 - accuracy: 0.9515\n",
            "Epoch 17: ReduceLROnPlateau reducing learning rate to 4.0000001899898055e-05.\n",
            "91/91 [==============================] - 24s 258ms/step - loss: 0.1252 - accuracy: 0.9515 - val_loss: 0.1623 - val_accuracy: 0.9253 - lr: 2.0000e-04\n",
            "Epoch 18/50\n",
            "91/91 [==============================] - 23s 249ms/step - loss: 0.0886 - accuracy: 0.9662 - val_loss: 0.1571 - val_accuracy: 0.9299 - lr: 4.0000e-05\n",
            "Epoch 19/50\n",
            "91/91 [==============================] - 23s 254ms/step - loss: 0.0775 - accuracy: 0.9711 - val_loss: 0.1544 - val_accuracy: 0.9305 - lr: 4.0000e-05\n",
            "Epoch 20/50\n",
            "91/91 [==============================] - 24s 263ms/step - loss: 0.0722 - accuracy: 0.9742 - val_loss: 0.1550 - val_accuracy: 0.9325 - lr: 4.0000e-05\n",
            "Epoch 21/50\n",
            "91/91 [==============================] - 24s 261ms/step - loss: 0.0692 - accuracy: 0.9751 - val_loss: 0.1601 - val_accuracy: 0.9312 - lr: 4.0000e-05\n",
            "Epoch 22/50\n",
            "91/91 [==============================] - 23s 255ms/step - loss: 0.0608 - accuracy: 0.9784 - val_loss: 0.1587 - val_accuracy: 0.9331 - lr: 4.0000e-05\n",
            "Epoch 23/50\n",
            "91/91 [==============================] - 23s 255ms/step - loss: 0.0558 - accuracy: 0.9808 - val_loss: 0.1609 - val_accuracy: 0.9338 - lr: 4.0000e-05\n",
            "Epoch 24/50\n",
            "91/91 [==============================] - 23s 254ms/step - loss: 0.0534 - accuracy: 0.9825 - val_loss: 0.1627 - val_accuracy: 0.9331 - lr: 4.0000e-05\n",
            "Epoch 25/50\n",
            "91/91 [==============================] - 24s 262ms/step - loss: 0.0489 - accuracy: 0.9851 - val_loss: 0.1634 - val_accuracy: 0.9351 - lr: 4.0000e-05\n",
            "Epoch 26/50\n",
            "91/91 [==============================] - 23s 254ms/step - loss: 0.0439 - accuracy: 0.9863 - val_loss: 0.1659 - val_accuracy: 0.9325 - lr: 4.0000e-05\n",
            "Epoch 27/50\n",
            "91/91 [==============================] - 23s 257ms/step - loss: 0.0469 - accuracy: 0.9860 - val_loss: 0.1762 - val_accuracy: 0.9292 - lr: 4.0000e-05\n",
            "Epoch 28/50\n",
            "91/91 [==============================] - 22s 246ms/step - loss: 0.0433 - accuracy: 0.9879 - val_loss: 0.1725 - val_accuracy: 0.9357 - lr: 4.0000e-05\n",
            "Epoch 29/50\n",
            "91/91 [==============================] - 23s 250ms/step - loss: 0.0364 - accuracy: 0.9901 - val_loss: 0.1778 - val_accuracy: 0.9325 - lr: 4.0000e-05\n",
            "Epoch 30/50\n",
            "91/91 [==============================] - 23s 255ms/step - loss: 0.0295 - accuracy: 0.9931 - val_loss: 0.1694 - val_accuracy: 0.9377 - lr: 4.0000e-05\n",
            "Epoch 31/50\n",
            "91/91 [==============================] - 23s 254ms/step - loss: 0.0287 - accuracy: 0.9936 - val_loss: 0.1843 - val_accuracy: 0.9338 - lr: 4.0000e-05\n",
            "Epoch 32/50\n",
            "91/91 [==============================] - 24s 262ms/step - loss: 0.0236 - accuracy: 0.9934 - val_loss: 0.1740 - val_accuracy: 0.9390 - lr: 4.0000e-05\n",
            "Epoch 33/50\n",
            "91/91 [==============================] - 23s 251ms/step - loss: 0.0191 - accuracy: 0.9958 - val_loss: 0.1779 - val_accuracy: 0.9357 - lr: 4.0000e-05\n",
            "Epoch 34/50\n",
            "91/91 [==============================] - 23s 256ms/step - loss: 0.0178 - accuracy: 0.9969 - val_loss: 0.1845 - val_accuracy: 0.9364 - lr: 4.0000e-05\n",
            "Epoch 35/50\n",
            "91/91 [==============================] - 23s 255ms/step - loss: 0.0170 - accuracy: 0.9967 - val_loss: 0.1837 - val_accuracy: 0.9370 - lr: 4.0000e-05\n",
            "Epoch 36/50\n",
            "91/91 [==============================] - 23s 256ms/step - loss: 0.0138 - accuracy: 0.9977 - val_loss: 0.2002 - val_accuracy: 0.9357 - lr: 4.0000e-05\n",
            "Epoch 37/50\n",
            "91/91 [==============================] - 23s 255ms/step - loss: 0.0123 - accuracy: 0.9983 - val_loss: 0.1949 - val_accuracy: 0.9351 - lr: 4.0000e-05\n",
            "Epoch 38/50\n",
            "91/91 [==============================] - 23s 256ms/step - loss: 0.0091 - accuracy: 0.9995 - val_loss: 0.1965 - val_accuracy: 0.9344 - lr: 4.0000e-05\n",
            "Epoch 39/50\n",
            "91/91 [==============================] - 23s 253ms/step - loss: 0.0115 - accuracy: 0.9981 - val_loss: 0.2033 - val_accuracy: 0.9377 - lr: 4.0000e-05\n",
            "Epoch 40/50\n",
            "91/91 [==============================] - 24s 258ms/step - loss: 0.0082 - accuracy: 0.9986 - val_loss: 0.2071 - val_accuracy: 0.9357 - lr: 4.0000e-05\n",
            "Epoch 41/50\n",
            "91/91 [==============================] - 23s 251ms/step - loss: 0.0089 - accuracy: 0.9988 - val_loss: 0.2038 - val_accuracy: 0.9370 - lr: 4.0000e-05\n",
            "Epoch 42/50\n",
            "91/91 [==============================] - 23s 249ms/step - loss: 0.0076 - accuracy: 0.9988 - val_loss: 0.2159 - val_accuracy: 0.9377 - lr: 4.0000e-05\n",
            "Epoch 43/50\n",
            "91/91 [==============================] - 23s 250ms/step - loss: 0.0091 - accuracy: 0.9979 - val_loss: 0.2175 - val_accuracy: 0.9409 - lr: 4.0000e-05\n",
            "Epoch 44/50\n",
            "91/91 [==============================] - 23s 248ms/step - loss: 0.0064 - accuracy: 0.9986 - val_loss: 0.2162 - val_accuracy: 0.9370 - lr: 4.0000e-05\n",
            "Epoch 45/50\n",
            "91/91 [==============================] - 23s 248ms/step - loss: 0.0131 - accuracy: 0.9964 - val_loss: 0.2304 - val_accuracy: 0.9377 - lr: 4.0000e-05\n",
            "Epoch 46/50\n",
            "91/91 [==============================] - ETA: 0s - loss: 0.0118 - accuracy: 0.9971\n",
            "Epoch 46: ReduceLROnPlateau reducing learning rate to 8.000000525498762e-06.\n",
            "91/91 [==============================] - 23s 252ms/step - loss: 0.0118 - accuracy: 0.9971 - val_loss: 0.2097 - val_accuracy: 0.9357 - lr: 4.0000e-05\n",
            "Epoch 47/50\n",
            "91/91 [==============================] - 23s 253ms/step - loss: 0.0057 - accuracy: 0.9991 - val_loss: 0.2127 - val_accuracy: 0.9377 - lr: 8.0000e-06\n",
            "Epoch 48/50\n",
            "91/91 [==============================] - 24s 259ms/step - loss: 0.0038 - accuracy: 1.0000 - val_loss: 0.2143 - val_accuracy: 0.9403 - lr: 8.0000e-06\n",
            "Epoch 49/50\n",
            "91/91 [==============================] - 23s 253ms/step - loss: 0.0037 - accuracy: 0.9993 - val_loss: 0.2172 - val_accuracy: 0.9390 - lr: 8.0000e-06\n",
            "Epoch 50/50\n",
            "91/91 [==============================] - 23s 251ms/step - loss: 0.0040 - accuracy: 0.9997 - val_loss: 0.2155 - val_accuracy: 0.9396 - lr: 8.0000e-06\n"
          ]
        }
      ]
    },
    {
      "cell_type": "markdown",
      "metadata": {
        "id": "vn84Odt1Jarn"
      },
      "source": [
        "Métricas"
      ]
    },
    {
      "cell_type": "code",
      "source": [
        "# Gráfico de accurancy x val_accurancy\n",
        "plt.plot(historyResnet.history['accuracy'], label='accuracy')\n",
        "plt.plot(historyResnet.history['val_accuracy'], label = 'val_accuracy')\n",
        "plt.title('Train accuracy x Val accuracy')\n",
        "plt.xlabel('Epochs')\n",
        "plt.ylabel('Accuracy')\n",
        "plt.legend(['train','val'])"
      ],
      "metadata": {
        "colab": {
          "base_uri": "https://localhost:8080/"
        },
        "outputId": "34adcf75-79c6-4209-e931-86e0371e0c9f",
        "id": "dPprScPpJaro"
      },
      "execution_count": null,
      "outputs": [
        {
          "output_type": "execute_result",
          "data": {
            "text/plain": [
              "<matplotlib.legend.Legend at 0x79c8ca8d9a20>"
            ]
          },
          "metadata": {},
          "execution_count": 89
        },
        {
          "output_type": "display_data",
          "data": {
            "text/plain": [
              "<Figure size 640x480 with 1 Axes>"
            ],
            "image/png": "[encoded data removed]"
          },
          "metadata": {}
        }
      ]
    },
    {
      "cell_type": "code",
      "source": [
        "# Gráfico de loss x val_loss\n",
        "plt.plot(historyResnet.history['loss'], label='loss')\n",
        "plt.plot(historyResnet.history['val_loss'], label = 'val_loss')\n",
        "plt.title('Train loss x Val loss')\n",
        "plt.xlabel('Epochs')\n",
        "plt.ylabel('Loss')\n",
        "plt.legend(loc='lower right')\n",
        "plt.legend(['train','val'])"
      ],
      "metadata": {
        "colab": {
          "base_uri": "https://localhost:8080/"
        },
        "outputId": "46a2d0d4-4ba9-4850-9342-a9bae838af39",
        "id": "aN2g9yO9Jaro"
      },
      "execution_count": null,
      "outputs": [
        {
          "output_type": "execute_result",
          "data": {
            "text/plain": [
              "<matplotlib.legend.Legend at 0x79c8c93d2ad0>"
            ]
          },
          "metadata": {},
          "execution_count": 90
        },
        {
          "output_type": "display_data",
          "data": {
            "text/plain": [
              "<Figure size 640x480 with 1 Axes>"
            ],
            "image/png": "[encoded data removed]"
          },
          "metadata": {}
        }
      ]
    },
    {
      "cell_type": "code",
      "execution_count": null,
      "metadata": {
        "colab": {
          "base_uri": "https://localhost:8080/"
        },
        "outputId": "87978b18-c26d-4cc0-dc9a-ea4101312bde",
        "id": "PxTV13T5Jaro"
      },
      "outputs": [
        {
          "output_type": "execute_result",
          "data": {
            "text/plain": [
              "<Axes: >"
            ]
          },
          "metadata": {},
          "execution_count": 91
        },
        {
          "output_type": "display_data",
          "data": {
            "text/plain": [
              "<Figure size 640x480 with 1 Axes>"
            ],
            "image/png": "[encoded data removed]"
          },
          "metadata": {}
        }
      ],
      "source": [
        "# Gráfico de loss x val_loss e accurancy x val_accurancy\n",
        "pd.DataFrame(modelResnet.history.history).plot()"
      ]
    },
    {
      "cell_type": "code",
      "execution_count": null,
      "metadata": {
        "colab": {
          "base_uri": "https://localhost:8080/"
        },
        "outputId": "0878cdc5-01c5-46b9-9741-3ce3d6dd4ace",
        "id": "xYrUXEn6Jarp"
      },
      "outputs": [
        {
          "output_type": "stream",
          "name": "stdout",
          "text": [
            "25/25 [==============================] - 5s 194ms/step\n"
          ]
        }
      ],
      "source": [
        "# Realiza predição do dataset de Validação\n",
        "val_generator.reset()\n",
        "pred=modelResnet.predict(val_generator, verbose=1)\n",
        "predicted_class_indices=np.argmax(pred,axis=1)"
      ]
    },
    {
      "cell_type": "code",
      "execution_count": null,
      "metadata": {
        "colab": {
          "base_uri": "https://localhost:8080/"
        },
        "outputId": "2f5b31f6-38b3-45ef-efac-fc7f0de82dd6",
        "id": "w7aKHGppJarp"
      },
      "outputs": [
        {
          "output_type": "stream",
          "name": "stdout",
          "text": [
            "A acurácia é de 93.96%\n"
          ]
        }
      ],
      "source": [
        "# Calcula a acurácia do dataset de Validação\n",
        "acuracia = accuracy_score(val_generator.classes, predicted_class_indices)\n",
        "print(\"A acurácia é de {0}%\".format(round(acuracia * 100,2)))"
      ]
    },
    {
      "cell_type": "code",
      "execution_count": null,
      "metadata": {
        "colab": {
          "base_uri": "https://localhost:8080/",
          "height": 448
        },
        "outputId": "2ebc77eb-5353-4f4e-d87f-9b9fe35edd78",
        "id": "81_UVdJxJarp"
      },
      "outputs": [
        {
          "output_type": "execute_result",
          "data": {
            "text/plain": [
              "<Axes: >"
            ]
          },
          "metadata": {},
          "execution_count": 113
        },
        {
          "output_type": "display_data",
          "data": {
            "text/plain": [
              "<Figure size 640x480 with 2 Axes>"
            ],
            "image/png": "[encoded data removed]"
          },
          "metadata": {}
        }
      ],
      "source": [
        "# Platagem da matrix de confusão do dataset de Validação\n",
        "cm = pd.DataFrame(data=confusion_matrix(val_generator.classes, predicted_class_indices))\n",
        "sns.heatmap(cm,annot=True,fmt=\"d\", xticklabels=['Com dano', 'Sem dano'], yticklabels=['Com dano', 'Sem dano'])"
      ]
    },
    {
      "cell_type": "code",
      "execution_count": null,
      "metadata": {
        "colab": {
          "base_uri": "https://localhost:8080/"
        },
        "outputId": "aacd4de4-f72b-43a9-d5e5-efd77b7dba2a",
        "id": "ZsyUEvE3Jarq"
      },
      "outputs": [
        {
          "output_type": "stream",
          "name": "stdout",
          "text": [
            "              precision    recall  f1-score   support\n",
            "\n",
            "    Com dano     0.9366    0.9270    0.9318       685\n",
            "    Sem dano     0.9420    0.9497    0.9458       855\n",
            "\n",
            "    accuracy                         0.9396      1540\n",
            "   macro avg     0.9393    0.9384    0.9388      1540\n",
            "weighted avg     0.9396    0.9396    0.9396      1540\n",
            "\n"
          ]
        }
      ],
      "source": [
        "# Relatório de classificação do modelo para o dataset de Validação\n",
        "print(classification_report(val_generator.classes, predicted_class_indices, digits=4, target_names=['Com dano', 'Sem dano']))"
      ]
    },
    {
      "cell_type": "markdown",
      "source": [
        "Testes"
      ],
      "metadata": {
        "id": "aC_vIhlKJarq"
      }
    },
    {
      "cell_type": "code",
      "execution_count": null,
      "metadata": {
        "colab": {
          "base_uri": "https://localhost:8080/"
        },
        "outputId": "19bbaa3e-7977-485b-9f7a-1951b478e4b2",
        "id": "I0r_4LiiJarq"
      },
      "outputs": [
        {
          "output_type": "stream",
          "name": "stdout",
          "text": [
            "7/7 [==============================] - 1s 172ms/step\n"
          ]
        }
      ],
      "source": [
        "# Realiza predição do dataset de Testes\n",
        "test_generator.reset()\n",
        "predtest=modelResnet.predict(test_generator, verbose=1)\n",
        "predictedTest_class_indices=np.argmax(predtest,axis=1)"
      ]
    },
    {
      "cell_type": "code",
      "execution_count": null,
      "metadata": {
        "colab": {
          "base_uri": "https://localhost:8080/"
        },
        "outputId": "2d1381d5-1640-48fa-a8c0-c22fe5478f3e",
        "id": "FAo4IuHJJarq"
      },
      "outputs": [
        {
          "output_type": "stream",
          "name": "stdout",
          "text": [
            "A acurácia é de 94.55%\n"
          ]
        }
      ],
      "source": [
        "# Calcula a acurácia do dataset de Testes\n",
        "acuraciaTest = accuracy_score(test_generator.classes, predictedTest_class_indices)\n",
        "print(\"A acurácia é de {0}%\".format(round(acuraciaTest * 100,2)))"
      ]
    },
    {
      "cell_type": "code",
      "execution_count": null,
      "metadata": {
        "colab": {
          "base_uri": "https://localhost:8080/",
          "height": 448
        },
        "outputId": "a7e110cc-d81e-47c4-9c46-fcb4dde5129b",
        "id": "t3bDJBUsJarq"
      },
      "outputs": [
        {
          "output_type": "execute_result",
          "data": {
            "text/plain": [
              "<Axes: >"
            ]
          },
          "metadata": {},
          "execution_count": 117
        },
        {
          "output_type": "display_data",
          "data": {
            "text/plain": [
              "<Figure size 640x480 with 2 Axes>"
            ],
            "image/png": "[encoded data removed]"
          },
          "metadata": {}
        }
      ],
      "source": [
        "# Platagem da matrix de confusão do dataset de Testes\n",
        "cmTest = pd.DataFrame(data=confusion_matrix(test_generator.classes, predictedTest_class_indices))\n",
        "sns.heatmap(cmTest,annot=True,fmt=\"d\", xticklabels=['Com dano', 'Sem dano'], yticklabels=['Com dano', 'Sem dano'])"
      ]
    },
    {
      "cell_type": "code",
      "execution_count": null,
      "metadata": {
        "colab": {
          "base_uri": "https://localhost:8080/"
        },
        "outputId": "4f808e1a-2f9d-466c-e183-06bc7c2b9360",
        "id": "mnp8-fjdJarr"
      },
      "outputs": [
        {
          "output_type": "stream",
          "name": "stdout",
          "text": [
            "              precision    recall  f1-score   support\n",
            "\n",
            "    Com dano     0.9412    0.9357    0.9384       171\n",
            "    Sem Dano     0.9488    0.9533    0.9510       214\n",
            "\n",
            "    accuracy                         0.9455       385\n",
            "   macro avg     0.9450    0.9445    0.9447       385\n",
            "weighted avg     0.9454    0.9455    0.9454       385\n",
            "\n"
          ]
        }
      ],
      "source": [
        "# Relatório de classificação do modelo para o dataset de Testes\n",
        "labels = (test_generator.class_indices)\n",
        "labels = dict((v,k) for k,v in labels.items())\n",
        "print(classification_report(test_generator.classes, predictedTest_class_indices, digits=4, target_names=['Com dano', 'Sem Dano']))"
      ]
    },
    {
      "cell_type": "code",
      "source": [
        "# Mostra classificação - percentual de classificação - rótulo verdadeiro da imagem\n",
        "classes = {0: 'Com dano', 1:'Sem dano'}\n",
        "imagens = np.concatenate([test_generator[i] for i in range(test_generator.__len__())])\n",
        "i = 44\n",
        "previsto = np.argmax(predtest[i])\n",
        "percentual = np.max(predtest[i])\n",
        "real = test_generator.classes[i]\n",
        "imagemReal = imagens[i]"
      ],
      "metadata": {
        "id": "ejvDWffLJarr"
      },
      "execution_count": null,
      "outputs": []
    },
    {
      "cell_type": "code",
      "source": [
        "# Plota predição de teste\n",
        "plt.title('Previsto: ' + classes[previsto] + ' com ' + '{:.2%}'.format(round(percentual,2)) + '. \\nReal: ' + classes[real])\n",
        "plt.imshow(np.squeeze(imagemReal))\n",
        "plt.axis('off')\n",
        "plt.show()"
      ],
      "metadata": {
        "colab": {
          "base_uri": "https://localhost:8080/"
        },
        "outputId": "5c38baba-70b6-4268-c9b6-121eb979b54e",
        "id": "YN-5l_XiJarr"
      },
      "execution_count": null,
      "outputs": [
        {
          "output_type": "display_data",
          "data": {
            "text/plain": [
              "<Figure size 640x480 with 1 Axes>"
            ],
            "image/png": "[encoded data removed]"
          },
          "metadata": {}
        }
      ]
    },
    {
      "cell_type": "code",
      "source": [
        "# Plota predições de teste\n",
        "classes = {0: 'Sem dano', 1:'Com dano'}\n",
        "imagens = np.concatenate([test_generator[i] for i in range(test_generator.__len__())])\n",
        "plt.figure(figsize=(20, 20))\n",
        "start = 0\n",
        "\n",
        "for i in range(0, 16):\n",
        "\n",
        "    plt.subplot(4, 4, i+1)\n",
        "\n",
        "    # Mostra classificação - percentual de classificação - rótulo verdadeiro da imagem\n",
        "    previsto = np.argmax(predtest[i])\n",
        "    percentual = np.max(predtest[i])\n",
        "    real = test_generator.classes[i]\n",
        "    imagemReal = imagens[i]\n",
        "    plt.title('Classificado como ' + classes[previsto] + ' com ' + '{:.2%}'.format(round(percentual,2)) + '. \\nRótulo verdadeiro: ' + classes[real])\n",
        "    plt.axis('off')\n",
        "    plt.imshow(np.squeeze(imagemReal))\n",
        "\n",
        "plt.tight_layout()\n",
        "plt.show()"
      ],
      "metadata": {
        "id": "00INnaxqJarr"
      },
      "execution_count": null,
      "outputs": []
    },
    {
      "cell_type": "markdown",
      "source": [
        "### InceptionV3"
      ],
      "metadata": {
        "id": "uoE6bzcHMVuZ"
      }
    },
    {
      "cell_type": "code",
      "source": [
        "# Importa bibliotecas necessárias para o InceptionV3\n",
        "from tensorflow.keras.applications.inception_v3 import InceptionV3\n",
        "from tensorflow.keras.applications.inception_v3 import preprocess_input, decode_predictions\n",
        "\n",
        "# Define hiperparâmetros do modelo\n",
        "modelInception = InceptionV3(input_tensor=input_layer,\n",
        "    include_top=False,\n",
        "    weights=\"imagenet\")\n",
        "\n",
        "# Cria cadama de saída para suportar a classificação de 04 com função de ativação softmax\n",
        "last_layer=modelInception.output\n",
        "flatten=layers.Flatten()(last_layer)\n",
        "output_layer=layers.Dense(2,activation='softmax')(flatten)\n",
        "modelInception=models.Model(inputs=input_layer,outputs=output_layer)"
      ],
      "metadata": {
        "id": "OwAWLo01MVua",
        "colab": {
          "base_uri": "https://localhost:8080/"
        },
        "outputId": "ad59a5a0-8893-4a43-c93c-dca94dcf2a0a"
      },
      "execution_count": null,
      "outputs": [
        {
          "output_type": "stream",
          "name": "stdout",
          "text": [
            "Downloading data from https://storage.googleapis.com/tensorflow/keras-applications/inception_v3/inception_v3_weights_tf_dim_ordering_tf_kernels_notop.h5\n",
            "87910968/87910968 [==============================] - 3s 0us/step\n"
          ]
        }
      ]
    },
    {
      "cell_type": "code",
      "source": [
        "# Compila modelo\n",
        "modelInception.compile(loss='categorical_crossentropy', optimizer='adam',metrics=['accuracy'])"
      ],
      "metadata": {
        "id": "qlOj8xEJT208"
      },
      "execution_count": null,
      "outputs": []
    },
    {
      "cell_type": "code",
      "source": [
        "# Gera Resumo do modelo\n",
        "modelInception.summary()"
      ],
      "metadata": {
        "id": "YwRTrWKOT208"
      },
      "execution_count": null,
      "outputs": []
    },
    {
      "cell_type": "code",
      "source": [
        "# Realiza o treinamento do modelo\n",
        "historyInception = modelInception.fit(train_generator, epochs=50, validation_data=val_generator, verbose=1, callbacks=callbacks_x)"
      ],
      "metadata": {
        "id": "9shfEplYT208",
        "colab": {
          "base_uri": "https://localhost:8080/"
        },
        "outputId": "7a399e14-1398-4277-8b78-4c07b9aef7b4"
      },
      "execution_count": null,
      "outputs": [
        {
          "output_type": "stream",
          "name": "stdout",
          "text": [
            "Epoch 1/50\n",
            "91/91 [==============================] - 61s 296ms/step - loss: 0.6992 - accuracy: 0.7022 - val_loss: 40.3443 - val_accuracy: 0.6136 - lr: 0.0010\n",
            "Epoch 2/50\n",
            "91/91 [==============================] - 24s 268ms/step - loss: 0.3690 - accuracy: 0.8281 - val_loss: 0.8277 - val_accuracy: 0.8234 - lr: 0.0010\n",
            "Epoch 3/50\n",
            "91/91 [==============================] - 23s 255ms/step - loss: 0.4464 - accuracy: 0.8403 - val_loss: 1559.1411 - val_accuracy: 0.6903 - lr: 0.0010\n",
            "Epoch 4/50\n",
            "91/91 [==============================] - ETA: 0s - loss: 0.5308 - accuracy: 0.8024\n",
            "Epoch 4: ReduceLROnPlateau reducing learning rate to 0.00020000000949949026.\n",
            "91/91 [==============================] - 24s 265ms/step - loss: 0.5308 - accuracy: 0.8024 - val_loss: 15803.6797 - val_accuracy: 0.5506 - lr: 0.0010\n",
            "Epoch 5/50\n",
            "91/91 [==============================] - 24s 262ms/step - loss: 0.3533 - accuracy: 0.8423 - val_loss: 0.6945 - val_accuracy: 0.7305 - lr: 2.0000e-04\n",
            "Epoch 6/50\n",
            "91/91 [==============================] - 23s 251ms/step - loss: 0.2653 - accuracy: 0.8779 - val_loss: 0.2759 - val_accuracy: 0.8695 - lr: 2.0000e-04\n",
            "Epoch 7/50\n",
            "91/91 [==============================] - 24s 260ms/step - loss: 0.2151 - accuracy: 0.9056 - val_loss: 0.2390 - val_accuracy: 0.8961 - lr: 2.0000e-04\n",
            "Epoch 8/50\n",
            "91/91 [==============================] - 24s 267ms/step - loss: 0.1839 - accuracy: 0.9212 - val_loss: 0.2301 - val_accuracy: 0.8929 - lr: 2.0000e-04\n",
            "Epoch 9/50\n",
            "91/91 [==============================] - 24s 261ms/step - loss: 0.1523 - accuracy: 0.9340 - val_loss: 0.2250 - val_accuracy: 0.8974 - lr: 2.0000e-04\n",
            "Epoch 10/50\n",
            "91/91 [==============================] - 24s 262ms/step - loss: 0.1391 - accuracy: 0.9434 - val_loss: 0.2332 - val_accuracy: 0.9019 - lr: 2.0000e-04\n",
            "Epoch 11/50\n",
            "91/91 [==============================] - 24s 261ms/step - loss: 0.1227 - accuracy: 0.9491 - val_loss: 0.2014 - val_accuracy: 0.9169 - lr: 2.0000e-04\n",
            "Epoch 12/50\n",
            "91/91 [==============================] - 24s 266ms/step - loss: 0.1009 - accuracy: 0.9583 - val_loss: 0.2302 - val_accuracy: 0.9058 - lr: 2.0000e-04\n",
            "Epoch 13/50\n",
            "91/91 [==============================] - 24s 259ms/step - loss: 0.0985 - accuracy: 0.9617 - val_loss: 0.2176 - val_accuracy: 0.9110 - lr: 2.0000e-04\n",
            "Epoch 14/50\n",
            "91/91 [==============================] - 23s 257ms/step - loss: 0.0913 - accuracy: 0.9652 - val_loss: 0.2039 - val_accuracy: 0.9286 - lr: 2.0000e-04\n",
            "Epoch 15/50\n",
            "91/91 [==============================] - 24s 264ms/step - loss: 0.0741 - accuracy: 0.9721 - val_loss: 0.2222 - val_accuracy: 0.9214 - lr: 2.0000e-04\n",
            "Epoch 16/50\n",
            "91/91 [==============================] - 24s 262ms/step - loss: 0.0691 - accuracy: 0.9716 - val_loss: 0.2451 - val_accuracy: 0.9182 - lr: 2.0000e-04\n",
            "Epoch 17/50\n",
            "91/91 [==============================] - 23s 253ms/step - loss: 0.0593 - accuracy: 0.9756 - val_loss: 0.2391 - val_accuracy: 0.9195 - lr: 2.0000e-04\n",
            "Epoch 18/50\n",
            "91/91 [==============================] - 24s 266ms/step - loss: 0.0539 - accuracy: 0.9789 - val_loss: 0.2582 - val_accuracy: 0.9260 - lr: 2.0000e-04\n",
            "Epoch 19/50\n",
            "91/91 [==============================] - 24s 264ms/step - loss: 0.0606 - accuracy: 0.9782 - val_loss: 0.2894 - val_accuracy: 0.9201 - lr: 2.0000e-04\n",
            "Epoch 20/50\n",
            "91/91 [==============================] - ETA: 0s - loss: 0.0575 - accuracy: 0.9790\n",
            "Epoch 20: ReduceLROnPlateau reducing learning rate to 4.0000001899898055e-05.\n",
            "91/91 [==============================] - 23s 257ms/step - loss: 0.0575 - accuracy: 0.9790 - val_loss: 0.2351 - val_accuracy: 0.9312 - lr: 2.0000e-04\n",
            "Epoch 21/50\n",
            "91/91 [==============================] - 24s 262ms/step - loss: 0.0247 - accuracy: 0.9915 - val_loss: 0.2136 - val_accuracy: 0.9383 - lr: 4.0000e-05\n",
            "Epoch 22/50\n",
            "91/91 [==============================] - 23s 257ms/step - loss: 0.0150 - accuracy: 0.9950 - val_loss: 0.2305 - val_accuracy: 0.9364 - lr: 4.0000e-05\n",
            "Epoch 23/50\n",
            "91/91 [==============================] - 24s 258ms/step - loss: 0.0103 - accuracy: 0.9964 - val_loss: 0.2408 - val_accuracy: 0.9409 - lr: 4.0000e-05\n",
            "Epoch 24/50\n",
            "91/91 [==============================] - 24s 261ms/step - loss: 0.0108 - accuracy: 0.9962 - val_loss: 0.2476 - val_accuracy: 0.9422 - lr: 4.0000e-05\n",
            "Epoch 25/50\n",
            "91/91 [==============================] - 24s 263ms/step - loss: 0.0063 - accuracy: 0.9983 - val_loss: 0.2615 - val_accuracy: 0.9442 - lr: 4.0000e-05\n",
            "Epoch 26/50\n",
            "91/91 [==============================] - 24s 266ms/step - loss: 0.0080 - accuracy: 0.9971 - val_loss: 0.2724 - val_accuracy: 0.9403 - lr: 4.0000e-05\n",
            "Epoch 27/50\n",
            "91/91 [==============================] - 24s 262ms/step - loss: 0.0058 - accuracy: 0.9983 - val_loss: 0.2870 - val_accuracy: 0.9390 - lr: 4.0000e-05\n",
            "Epoch 28/50\n",
            "91/91 [==============================] - 23s 255ms/step - loss: 0.0048 - accuracy: 0.9986 - val_loss: 0.2756 - val_accuracy: 0.9448 - lr: 4.0000e-05\n",
            "Epoch 29/50\n",
            "91/91 [==============================] - 24s 260ms/step - loss: 0.0072 - accuracy: 0.9974 - val_loss: 0.2987 - val_accuracy: 0.9377 - lr: 4.0000e-05\n",
            "Epoch 30/50\n",
            "91/91 [==============================] - ETA: 0s - loss: 0.0063 - accuracy: 0.9983\n",
            "Epoch 30: ReduceLROnPlateau reducing learning rate to 8.000000525498762e-06.\n",
            "91/91 [==============================] - 23s 253ms/step - loss: 0.0063 - accuracy: 0.9983 - val_loss: 0.3258 - val_accuracy: 0.9370 - lr: 4.0000e-05\n",
            "Epoch 31/50\n",
            "91/91 [==============================] - 24s 258ms/step - loss: 0.0046 - accuracy: 0.9988 - val_loss: 0.3157 - val_accuracy: 0.9383 - lr: 8.0000e-06\n",
            "Epoch 32/50\n",
            "91/91 [==============================] - 23s 257ms/step - loss: 0.0033 - accuracy: 0.9991 - val_loss: 0.3198 - val_accuracy: 0.9383 - lr: 8.0000e-06\n",
            "Epoch 33/50\n",
            "91/91 [==============================] - 23s 252ms/step - loss: 0.0035 - accuracy: 0.9991 - val_loss: 0.3126 - val_accuracy: 0.9390 - lr: 8.0000e-06\n",
            "Epoch 34/50\n",
            "91/91 [==============================] - ETA: 0s - loss: 0.0036 - accuracy: 0.9991\n",
            "Epoch 34: ReduceLROnPlateau reducing learning rate to 1.6000001778593287e-06.\n",
            "91/91 [==============================] - 23s 257ms/step - loss: 0.0036 - accuracy: 0.9991 - val_loss: 0.3124 - val_accuracy: 0.9409 - lr: 8.0000e-06\n",
            "Epoch 35/50\n",
            "91/91 [==============================] - 24s 258ms/step - loss: 0.0018 - accuracy: 0.9998 - val_loss: 0.3128 - val_accuracy: 0.9409 - lr: 1.6000e-06\n",
            "Epoch 36/50\n",
            "91/91 [==============================] - 23s 255ms/step - loss: 0.0031 - accuracy: 0.9990 - val_loss: 0.3157 - val_accuracy: 0.9396 - lr: 1.6000e-06\n",
            "Epoch 37/50\n",
            "91/91 [==============================] - ETA: 0s - loss: 0.0038 - accuracy: 0.9984\n",
            "Epoch 37: ReduceLROnPlateau reducing learning rate to 3.200000264769187e-07.\n",
            "91/91 [==============================] - 23s 258ms/step - loss: 0.0038 - accuracy: 0.9984 - val_loss: 0.3196 - val_accuracy: 0.9396 - lr: 1.6000e-06\n",
            "Epoch 38/50\n",
            "91/91 [==============================] - 23s 252ms/step - loss: 0.0017 - accuracy: 0.9998 - val_loss: 0.3203 - val_accuracy: 0.9396 - lr: 3.2000e-07\n",
            "Epoch 39/50\n",
            "91/91 [==============================] - 24s 261ms/step - loss: 0.0020 - accuracy: 0.9995 - val_loss: 0.3207 - val_accuracy: 0.9403 - lr: 3.2000e-07\n",
            "Epoch 40/50\n",
            "91/91 [==============================] - 23s 251ms/step - loss: 9.5876e-04 - accuracy: 1.0000 - val_loss: 0.3216 - val_accuracy: 0.9403 - lr: 3.2000e-07\n",
            "Epoch 41/50\n",
            "91/91 [==============================] - 24s 258ms/step - loss: 0.0018 - accuracy: 0.9998 - val_loss: 0.3203 - val_accuracy: 0.9390 - lr: 3.2000e-07\n",
            "Epoch 42/50\n",
            "91/91 [==============================] - ETA: 0s - loss: 0.0028 - accuracy: 0.9995\n",
            "Epoch 42: ReduceLROnPlateau reducing learning rate to 6.400000529538374e-08.\n",
            "91/91 [==============================] - 24s 259ms/step - loss: 0.0028 - accuracy: 0.9995 - val_loss: 0.3207 - val_accuracy: 0.9403 - lr: 3.2000e-07\n",
            "Epoch 43/50\n",
            "91/91 [==============================] - 24s 259ms/step - loss: 0.0025 - accuracy: 0.9995 - val_loss: 0.3211 - val_accuracy: 0.9403 - lr: 6.4000e-08\n",
            "Epoch 44/50\n",
            "91/91 [==============================] - 24s 259ms/step - loss: 0.0020 - accuracy: 0.9993 - val_loss: 0.3220 - val_accuracy: 0.9403 - lr: 6.4000e-08\n",
            "Epoch 45/50\n",
            "91/91 [==============================] - ETA: 0s - loss: 0.0015 - accuracy: 0.9997\n",
            "Epoch 45: ReduceLROnPlateau reducing learning rate to 1.2800001059076749e-08.\n",
            "91/91 [==============================] - 24s 258ms/step - loss: 0.0015 - accuracy: 0.9997 - val_loss: 0.3209 - val_accuracy: 0.9403 - lr: 6.4000e-08\n",
            "Epoch 46/50\n",
            "91/91 [==============================] - 24s 263ms/step - loss: 0.0020 - accuracy: 0.9997 - val_loss: 0.3204 - val_accuracy: 0.9403 - lr: 1.2800e-08\n",
            "Epoch 47/50\n",
            "91/91 [==============================] - 23s 252ms/step - loss: 0.0021 - accuracy: 0.9995 - val_loss: 0.3208 - val_accuracy: 0.9403 - lr: 1.2800e-08\n",
            "Epoch 47: early stopping\n"
          ]
        }
      ]
    },
    {
      "cell_type": "markdown",
      "metadata": {
        "id": "HlgEXvaUJWTB"
      },
      "source": [
        "Métricas"
      ]
    },
    {
      "cell_type": "code",
      "source": [
        "# Gráfico de accurancy x val_accurancy\n",
        "plt.plot(historyInception.history['accuracy'], label='accuracy')\n",
        "plt.plot(historyInception.history['val_accuracy'], label = 'val_accuracy')\n",
        "plt.title('Train accuracy x Val accuracy')\n",
        "plt.xlabel('Epochs')\n",
        "plt.ylabel('Accuracy')\n",
        "plt.legend(['train','val'])"
      ],
      "metadata": {
        "colab": {
          "base_uri": "https://localhost:8080/",
          "height": 490
        },
        "outputId": "f52ff70c-57e4-463e-fd7a-f7fe4f7921b1",
        "id": "O2sBodUXJWTV"
      },
      "execution_count": null,
      "outputs": [
        {
          "output_type": "execute_result",
          "data": {
            "text/plain": [
              "<matplotlib.legend.Legend at 0x79c9bc50bb20>"
            ]
          },
          "metadata": {},
          "execution_count": 72
        },
        {
          "output_type": "display_data",
          "data": {
            "text/plain": [
              "<Figure size 640x480 with 1 Axes>"
            ],
            "image/png": "[encoded data removed]"
          },
          "metadata": {}
        }
      ]
    },
    {
      "cell_type": "code",
      "source": [
        "# Gráfico de loss x val_loss\n",
        "plt.plot(historyInception.history['loss'], label='loss')\n",
        "plt.plot(historyInception.history['val_loss'], label = 'val_loss')\n",
        "plt.title('Train loss x Val loss')\n",
        "plt.xlabel('Epochs')\n",
        "plt.ylabel('Loss')\n",
        "plt.legend(loc='lower right')\n",
        "plt.legend(['train','val'])"
      ],
      "metadata": {
        "colab": {
          "base_uri": "https://localhost:8080/",
          "height": 490
        },
        "outputId": "10767f47-b4a0-4c95-e759-ab73a532aeed",
        "id": "N7y7noYSJWTV"
      },
      "execution_count": null,
      "outputs": [
        {
          "output_type": "execute_result",
          "data": {
            "text/plain": [
              "<matplotlib.legend.Legend at 0x79c8ca598610>"
            ]
          },
          "metadata": {},
          "execution_count": 73
        },
        {
          "output_type": "display_data",
          "data": {
            "text/plain": [
              "<Figure size 640x480 with 1 Axes>"
            ],
            "image/png": "[encoded data removed]"
          },
          "metadata": {}
        }
      ]
    },
    {
      "cell_type": "code",
      "execution_count": null,
      "metadata": {
        "colab": {
          "base_uri": "https://localhost:8080/",
          "height": 448
        },
        "outputId": "4fa13816-a64e-44c7-b52d-9209f78febf7",
        "id": "4dVVL8GlJWTW"
      },
      "outputs": [
        {
          "output_type": "execute_result",
          "data": {
            "text/plain": [
              "<Axes: >"
            ]
          },
          "metadata": {},
          "execution_count": 74
        },
        {
          "output_type": "display_data",
          "data": {
            "text/plain": [
              "<Figure size 640x480 with 1 Axes>"
            ],
            "image/png": "[encoded data removed]"
          },
          "metadata": {}
        }
      ],
      "source": [
        "# Gráfico de loss x val_loss e accurancy x val_accurancy\n",
        "pd.DataFrame(modelInception.history.history).plot()"
      ]
    },
    {
      "cell_type": "code",
      "execution_count": null,
      "metadata": {
        "colab": {
          "base_uri": "https://localhost:8080/"
        },
        "outputId": "b1167d3d-1cbf-480e-d144-e3dc3c3c330b",
        "id": "XS3TdecwJWTW"
      },
      "outputs": [
        {
          "output_type": "stream",
          "name": "stdout",
          "text": [
            "25/25 [==============================] - 5s 205ms/step\n"
          ]
        }
      ],
      "source": [
        "# Realiza predição do dataset de Validação\n",
        "val_generator.reset()\n",
        "pred=modelInception.predict(val_generator, verbose=1)\n",
        "predicted_class_indices=np.argmax(pred,axis=1)"
      ]
    },
    {
      "cell_type": "code",
      "execution_count": null,
      "metadata": {
        "colab": {
          "base_uri": "https://localhost:8080/"
        },
        "outputId": "45ec2164-2405-4ab4-82f9-690998a6fbcf",
        "id": "RHWhAkobJWTW"
      },
      "outputs": [
        {
          "output_type": "stream",
          "name": "stdout",
          "text": [
            "A acurácia é de 94.03%\n"
          ]
        }
      ],
      "source": [
        "# Calcula a acurácia do dataset de Validação\n",
        "acuracia = accuracy_score(val_generator.classes, predicted_class_indices)\n",
        "print(\"A acurácia é de {0}%\".format(round(acuracia * 100,2)))"
      ]
    },
    {
      "cell_type": "code",
      "execution_count": null,
      "metadata": {
        "colab": {
          "base_uri": "https://localhost:8080/",
          "height": 450
        },
        "outputId": "731e9b95-fa84-4cf2-e257-e383cbd9537e",
        "id": "xPsy46kvJWTX"
      },
      "outputs": [
        {
          "output_type": "execute_result",
          "data": {
            "text/plain": [
              "<Axes: >"
            ]
          },
          "metadata": {},
          "execution_count": 121
        },
        {
          "output_type": "display_data",
          "data": {
            "text/plain": [
              "<Figure size 640x480 with 2 Axes>"
            ],
            "image/png": "[encoded data removed]"
          },
          "metadata": {}
        }
      ],
      "source": [
        "# Platagem da matrix de confusão do dataset de Validação\n",
        "cm = pd.DataFrame(data=confusion_matrix(val_generator.classes, predicted_class_indices))\n",
        "sns.heatmap(cm,annot=True,fmt=\"d\", xticklabels=['Com dano', 'Sem dano'], yticklabels=['Com dano', 'Sem dano'])"
      ]
    },
    {
      "cell_type": "code",
      "execution_count": null,
      "metadata": {
        "colab": {
          "base_uri": "https://localhost:8080/"
        },
        "outputId": "f2de57d4-a585-46df-bdc7-61d424804633",
        "id": "SVI3wXopJWTX"
      },
      "outputs": [
        {
          "output_type": "stream",
          "name": "stdout",
          "text": [
            "              precision    recall  f1-score   support\n",
            "\n",
            "    Com dano     0.9303    0.9358    0.9330       685\n",
            "    Sem dano     0.9483    0.9439    0.9461       855\n",
            "\n",
            "    accuracy                         0.9403      1540\n",
            "   macro avg     0.9393    0.9398    0.9396      1540\n",
            "weighted avg     0.9403    0.9403    0.9403      1540\n",
            "\n"
          ]
        }
      ],
      "source": [
        "# Relatório de classificação do modelo para o dataset de Validação\n",
        "print(classification_report(val_generator.classes, predicted_class_indices, digits=4, target_names=['Com dano', 'Sem dano']))"
      ]
    },
    {
      "cell_type": "code",
      "execution_count": null,
      "metadata": {
        "colab": {
          "base_uri": "https://localhost:8080/"
        },
        "outputId": "b635be89-3c70-414f-caa0-03f3aa9a2677",
        "id": "d-oCyJLuJWTY"
      },
      "outputs": [
        {
          "output_type": "stream",
          "name": "stdout",
          "text": [
            "7/7 [==============================] - 1s 172ms/step\n"
          ]
        }
      ],
      "source": [
        "# Realiza predição do dataset de Testes\n",
        "test_generator.reset()\n",
        "predtest=modelInception.predict(test_generator, verbose=1)\n",
        "predictedTest_class_indices=np.argmax(predtest,axis=1)"
      ]
    },
    {
      "cell_type": "code",
      "execution_count": null,
      "metadata": {
        "colab": {
          "base_uri": "https://localhost:8080/"
        },
        "outputId": "c38df252-b3d7-4bcc-b1a5-5baa09efc992",
        "id": "KdaZkO98JWTY"
      },
      "outputs": [
        {
          "output_type": "stream",
          "name": "stdout",
          "text": [
            "A acurácia é de 92.99%\n"
          ]
        }
      ],
      "source": [
        "# Calcula a acurácia do dataset de Testes\n",
        "acuraciaTest = accuracy_score(test_generator.classes, predictedTest_class_indices)\n",
        "print(\"A acurácia é de {0}%\".format(round(acuraciaTest * 100,2)))"
      ]
    },
    {
      "cell_type": "code",
      "execution_count": null,
      "metadata": {
        "colab": {
          "base_uri": "https://localhost:8080/",
          "height": 448
        },
        "outputId": "b99af21e-d198-4081-e22d-4cfd3f10e545",
        "id": "hfb7SpzUJWTY"
      },
      "outputs": [
        {
          "output_type": "execute_result",
          "data": {
            "text/plain": [
              "<Axes: >"
            ]
          },
          "metadata": {},
          "execution_count": 126
        },
        {
          "output_type": "display_data",
          "data": {
            "text/plain": [
              "<Figure size 640x480 with 2 Axes>"
            ],
            "image/png": "[encoded data removed]"
          },
          "metadata": {}
        }
      ],
      "source": [
        "# Platagem da matrix de confusão do dataset de Testes\n",
        "cmTest = pd.DataFrame(data=confusion_matrix(test_generator.classes, predictedTest_class_indices))\n",
        "sns.heatmap(cmTest,annot=True,fmt=\"d\", xticklabels=['Com dano', 'Sem dano'], yticklabels=['Com dano', 'Sem dano'])"
      ]
    },
    {
      "cell_type": "code",
      "execution_count": null,
      "metadata": {
        "colab": {
          "base_uri": "https://localhost:8080/"
        },
        "outputId": "a35b56bf-0d81-4ca1-8ed2-987cb87718f7",
        "id": "u5oBzRd7JWTZ"
      },
      "outputs": [
        {
          "output_type": "stream",
          "name": "stdout",
          "text": [
            "              precision    recall  f1-score   support\n",
            "\n",
            "    Com dano     0.9337    0.9064    0.9199       171\n",
            "    Sem Dano     0.9269    0.9486    0.9376       214\n",
            "\n",
            "    accuracy                         0.9299       385\n",
            "   macro avg     0.9303    0.9275    0.9288       385\n",
            "weighted avg     0.9300    0.9299    0.9298       385\n",
            "\n"
          ]
        }
      ],
      "source": [
        "# Relatório de classificação do modelo para o dataset de Testes\n",
        "labels = (test_generator.class_indices)\n",
        "labels = dict((v,k) for k,v in labels.items())\n",
        "print(classification_report(test_generator.classes, predictedTest_class_indices, digits=4, target_names=['Com dano', 'Sem Dano']))"
      ]
    },
    {
      "cell_type": "code",
      "source": [
        "# Mostra classificação - percentual de classificação - rótulo verdadeiro da imagem\n",
        "classes = {0: 'Com dano', 1:'Sem dano'}\n",
        "imagens = np.concatenate([test_generator[i] for i in range(test_generator.__len__())])\n",
        "i = 44\n",
        "previsto = np.argmax(predtest[i])\n",
        "percentual = np.max(predtest[i])\n",
        "real = test_generator.classes[i]\n",
        "imagemReal = imagens[i]"
      ],
      "metadata": {
        "id": "82lqmdwOJWTZ"
      },
      "execution_count": null,
      "outputs": []
    },
    {
      "cell_type": "code",
      "source": [
        "# Plota predição de teste\n",
        "plt.title('Previsto: ' + classes[previsto] + ' com ' + '{:.2%}'.format(round(percentual,2)) + '. \\nReal: ' + classes[real])\n",
        "plt.imshow(np.squeeze(imagemReal))\n",
        "plt.axis('off')\n",
        "plt.show()"
      ],
      "metadata": {
        "colab": {
          "base_uri": "https://localhost:8080/",
          "height": 449
        },
        "outputId": "bbada863-dcd7-43a2-ea56-5f550b976532",
        "id": "fAwV5QeOJWTa"
      },
      "execution_count": null,
      "outputs": [
        {
          "output_type": "display_data",
          "data": {
            "text/plain": [
              "<Figure size 640x480 with 1 Axes>"
            ],
            "image/png": "[encoded data removed]"
          },
          "metadata": {}
        }
      ]
    },
    {
      "cell_type": "code",
      "source": [
        "# Plota predições de teste\n",
        "classes = {0: 'Sem dano', 1:'Com dano'}\n",
        "imagens = np.concatenate([test_generator[i] for i in range(test_generator.__len__())])\n",
        "plt.figure(figsize=(20, 20))\n",
        "start = 0\n",
        "\n",
        "for i in range(0, 16):\n",
        "\n",
        "    plt.subplot(4, 4, i+1)\n",
        "\n",
        "    # Mostra classificação - percentual de classificação - rótulo verdadeiro da imagem\n",
        "    previsto = np.argmax(predtest[i])\n",
        "    percentual = np.max(predtest[i])\n",
        "    real = test_generator.classes[i]\n",
        "    imagemReal = imagens[i]\n",
        "    plt.title('Classificado como ' + classes[previsto] + ' com ' + '{:.2%}'.format(round(percentual,2)) + '. \\nRótulo verdadeiro: ' + classes[real])\n",
        "    plt.axis('off')\n",
        "    plt.imshow(np.squeeze(imagemReal))\n",
        "\n",
        "plt.tight_layout()\n",
        "plt.show()"
      ],
      "metadata": {
        "id": "vSPV1O4OJWTa"
      },
      "execution_count": null,
      "outputs": []
    }
  ],
  "metadata": {
    "accelerator": "GPU",
    "colab": {
      "machine_shape": "hm",
      "provenance": [],
      "collapsed_sections": [
        "J3uCn6StFWEB"
      ],
      "gpuType": "V100",
      "include_colab_link": true
    },
    "kernelspec": {
      "display_name": "Python 3",
      "name": "python3"
    },
    "language_info": {
      "name": "python"
    }
  },
  "nbformat": 4,
  "nbformat_minor": 0
}